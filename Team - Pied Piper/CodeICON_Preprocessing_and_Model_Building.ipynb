{
  "nbformat": 4,
  "nbformat_minor": 0,
  "metadata": {
    "colab": {
      "name": "CodeICON Preprocessing and Model Building.ipynb",
      "provenance": []
    },
    "kernelspec": {
      "name": "python3",
      "display_name": "Python 3"
    },
    "accelerator": "GPU"
  },
  "cells": [
    {
      "cell_type": "code",
      "metadata": {
        "id": "Nv6uN7BQONer"
      },
      "source": [
        "import pandas as pd\n",
        "df = pd.read_csv(\"/content/drive/MyDrive/CodeIcon/final_data.csv\")"
      ],
      "execution_count": null,
      "outputs": []
    },
    {
      "cell_type": "code",
      "metadata": {
        "colab": {
          "base_uri": "https://localhost:8080/",
          "height": 326
        },
        "id": "OTkkHMiRQP-9",
        "outputId": "eda81d87-b676-4ff0-fff9-0f1afc556745"
      },
      "source": [
        "df.head()"
      ],
      "execution_count": null,
      "outputs": [
        {
          "output_type": "execute_result",
          "data": {
            "text/html": [
              "<div>\n",
              "<style scoped>\n",
              "    .dataframe tbody tr th:only-of-type {\n",
              "        vertical-align: middle;\n",
              "    }\n",
              "\n",
              "    .dataframe tbody tr th {\n",
              "        vertical-align: top;\n",
              "    }\n",
              "\n",
              "    .dataframe thead th {\n",
              "        text-align: right;\n",
              "    }\n",
              "</style>\n",
              "<table border=\"1\" class=\"dataframe\">\n",
              "  <thead>\n",
              "    <tr style=\"text-align: right;\">\n",
              "      <th></th>\n",
              "      <th>shipment number</th>\n",
              "      <th>hit_or_miss</th>\n",
              "      <th>distribution_channel_cd</th>\n",
              "      <th>distribution_channel_desc</th>\n",
              "      <th>shp_type_indicator_fg</th>\n",
              "      <th>shp_type_indicator_desc</th>\n",
              "      <th>transport_group_cd</th>\n",
              "      <th>award_carrier_cd</th>\n",
              "      <th>event_action_cd</th>\n",
              "      <th>event_action_desc</th>\n",
              "      <th>event_type_cd</th>\n",
              "      <th>event_type_desc</th>\n",
              "      <th>creation_dt</th>\n",
              "      <th>creation_ts</th>\n",
              "      <th>first_tender_fg</th>\n",
              "      <th>first_response_fg</th>\n",
              "      <th>carrier_type_cd</th>\n",
              "      <th>carrier_type_desc</th>\n",
              "      <th>shipping_condition_cd</th>\n",
              "      <th>shipping_condition_desc</th>\n",
              "      <th>preceding_document_category_cd</th>\n",
              "      <th>source_location_cd</th>\n",
              "      <th>location_from_state_cd</th>\n",
              "      <th>destination_location_cd</th>\n",
              "      <th>location_to_state_cd</th>\n",
              "      <th>origin_city_nm</th>\n",
              "      <th>destination_city_nm</th>\n",
              "      <th>origin_country_cd</th>\n",
              "      <th>destination_country_cd</th>\n",
              "      <th>transport_lane</th>\n",
              "      <th>source_location_zone_cd</th>\n",
              "      <th>destination_location_zone_cd</th>\n",
              "      <th>source_zip_cd</th>\n",
              "      <th>destination_zip_cd</th>\n",
              "      <th>transport_region</th>\n",
              "      <th>freight_order_departure_dt</th>\n",
              "      <th>temp_condition_cd</th>\n",
              "      <th>temp_condition_desc</th>\n",
              "      <th>temp_channel_cd</th>\n",
              "      <th>temp_channel_desc</th>\n",
              "      <th>creation_dt_year_nbr</th>\n",
              "      <th>fiscal_year_nbr</th>\n",
              "      <th>fiscal_week_begin_dt</th>\n",
              "      <th>fiscal_week_end_dt</th>\n",
              "      <th>fiscal_month_desc</th>\n",
              "      <th>fiscal_year_week_tag</th>\n",
              "      <th>acpt_carrier_cd</th>\n",
              "      <th>acpt_first_response_fg</th>\n",
              "      <th>tndr_carrier_cd</th>\n",
              "      <th>tndr_first_tender_fg</th>\n",
              "      <th>tndr_carrier_type_cd</th>\n",
              "      <th>award_target_share_percent</th>\n",
              "      <th>tndr_target_share_percent</th>\n",
              "    </tr>\n",
              "  </thead>\n",
              "  <tbody>\n",
              "    <tr>\n",
              "      <th>0</th>\n",
              "      <td>71899922</td>\n",
              "      <td>1.0</td>\n",
              "      <td>II</td>\n",
              "      <td>Intercomp/Interplnt</td>\n",
              "      <td>O</td>\n",
              "      <td>Outbound</td>\n",
              "      <td>NTC</td>\n",
              "      <td>WREC</td>\n",
              "      <td>AW</td>\n",
              "      <td>Awarded</td>\n",
              "      <td>TND</td>\n",
              "      <td>Tender</td>\n",
              "      <td>2018-04-06 00:00:00</td>\n",
              "      <td>2018-04-06 08:07:52</td>\n",
              "      <td>N</td>\n",
              "      <td>N</td>\n",
              "      <td>P</td>\n",
              "      <td>Primary</td>\n",
              "      <td>40.0</td>\n",
              "      <td>Truck</td>\n",
              "      <td>V</td>\n",
              "      <td>SP-KC</td>\n",
              "      <td>MO</td>\n",
              "      <td>SP-V4</td>\n",
              "      <td>TX</td>\n",
              "      <td>KANSAS CITY</td>\n",
              "      <td>ARLINGTON</td>\n",
              "      <td>US</td>\n",
              "      <td>US</td>\n",
              "      <td>SP-KC To SP-V4</td>\n",
              "      <td>US-641</td>\n",
              "      <td>US-760</td>\n",
              "      <td>US-MO-64120</td>\n",
              "      <td>US-TX-76010</td>\n",
              "      <td>DRY WEST</td>\n",
              "      <td>2018-04-16 00:00:00</td>\n",
              "      <td>D</td>\n",
              "      <td>Dry</td>\n",
              "      <td>D</td>\n",
              "      <td>Dry</td>\n",
              "      <td>2018</td>\n",
              "      <td>2018</td>\n",
              "      <td>2018-04-02 00:00:00</td>\n",
              "      <td>2018-04-08 00:00:00</td>\n",
              "      <td>Apr</td>\n",
              "      <td>F18-WK 45</td>\n",
              "      <td>WREC</td>\n",
              "      <td>Y</td>\n",
              "      <td>WREC</td>\n",
              "      <td>N</td>\n",
              "      <td>P</td>\n",
              "      <td>15</td>\n",
              "      <td>15</td>\n",
              "    </tr>\n",
              "    <tr>\n",
              "      <th>1</th>\n",
              "      <td>71899419</td>\n",
              "      <td>1.0</td>\n",
              "      <td>II</td>\n",
              "      <td>Intercomp/Interplnt</td>\n",
              "      <td>O</td>\n",
              "      <td>Outbound</td>\n",
              "      <td>TC</td>\n",
              "      <td>TJIS</td>\n",
              "      <td>AW</td>\n",
              "      <td>Awarded</td>\n",
              "      <td>TND</td>\n",
              "      <td>Tender</td>\n",
              "      <td>2018-04-06 00:00:00</td>\n",
              "      <td>2018-04-06 07:48:50</td>\n",
              "      <td>N</td>\n",
              "      <td>N</td>\n",
              "      <td>P</td>\n",
              "      <td>Primary</td>\n",
              "      <td>40.0</td>\n",
              "      <td>Truck</td>\n",
              "      <td>V</td>\n",
              "      <td>SP-RC</td>\n",
              "      <td>MI</td>\n",
              "      <td>SP-KA</td>\n",
              "      <td>MI</td>\n",
              "      <td>REED CITY</td>\n",
              "      <td>KALAMAZOO</td>\n",
              "      <td>US</td>\n",
              "      <td>US</td>\n",
              "      <td>SP-RC To SP-KA</td>\n",
              "      <td>US-496</td>\n",
              "      <td>US-490</td>\n",
              "      <td>US-MI-49677</td>\n",
              "      <td>US-MI-49048</td>\n",
              "      <td>TEMP WEST</td>\n",
              "      <td>2018-04-08 00:00:00</td>\n",
              "      <td>R</td>\n",
              "      <td>Refrigerated</td>\n",
              "      <td>R</td>\n",
              "      <td>Refrigerated</td>\n",
              "      <td>2018</td>\n",
              "      <td>2018</td>\n",
              "      <td>2018-04-02 00:00:00</td>\n",
              "      <td>2018-04-08 00:00:00</td>\n",
              "      <td>Apr</td>\n",
              "      <td>F18-WK 45</td>\n",
              "      <td>TJIS</td>\n",
              "      <td>Y</td>\n",
              "      <td>TJIS</td>\n",
              "      <td>Y</td>\n",
              "      <td>P</td>\n",
              "      <td>100</td>\n",
              "      <td>100</td>\n",
              "    </tr>\n",
              "    <tr>\n",
              "      <th>2</th>\n",
              "      <td>71900703</td>\n",
              "      <td>1.0</td>\n",
              "      <td>II</td>\n",
              "      <td>Intercomp/Interplnt</td>\n",
              "      <td>O</td>\n",
              "      <td>Outbound</td>\n",
              "      <td>NTC</td>\n",
              "      <td>GMDR</td>\n",
              "      <td>AW</td>\n",
              "      <td>Awarded</td>\n",
              "      <td>TND</td>\n",
              "      <td>Tender</td>\n",
              "      <td>2018-04-06 00:00:00</td>\n",
              "      <td>2018-04-06 07:55:49</td>\n",
              "      <td>N</td>\n",
              "      <td>N</td>\n",
              "      <td>P</td>\n",
              "      <td>Primary</td>\n",
              "      <td>40.0</td>\n",
              "      <td>Truck</td>\n",
              "      <td>V</td>\n",
              "      <td>SP-WW</td>\n",
              "      <td>IA</td>\n",
              "      <td>SP-ET</td>\n",
              "      <td>ON</td>\n",
              "      <td>CEDAR RAPIDS</td>\n",
              "      <td>BRAMPTON</td>\n",
              "      <td>US</td>\n",
              "      <td>CA</td>\n",
              "      <td>SP-WW To SP-ET</td>\n",
              "      <td>US-524WW</td>\n",
              "      <td>CA-L6Y</td>\n",
              "      <td>US-IA-52404</td>\n",
              "      <td>CA-ON-L6Y 5</td>\n",
              "      <td>DRY MIDWEST</td>\n",
              "      <td>2018-04-14 00:00:00</td>\n",
              "      <td>D</td>\n",
              "      <td>Dry</td>\n",
              "      <td>D</td>\n",
              "      <td>Dry</td>\n",
              "      <td>2018</td>\n",
              "      <td>2018</td>\n",
              "      <td>2018-04-02 00:00:00</td>\n",
              "      <td>2018-04-08 00:00:00</td>\n",
              "      <td>Apr</td>\n",
              "      <td>F18-WK 45</td>\n",
              "      <td>GMDR</td>\n",
              "      <td>Y</td>\n",
              "      <td>GMDR</td>\n",
              "      <td>Y</td>\n",
              "      <td>P</td>\n",
              "      <td>10</td>\n",
              "      <td>10</td>\n",
              "    </tr>\n",
              "    <tr>\n",
              "      <th>3</th>\n",
              "      <td>71902024</td>\n",
              "      <td>1.0</td>\n",
              "      <td>II</td>\n",
              "      <td>Intercomp/Interplnt</td>\n",
              "      <td>O</td>\n",
              "      <td>Outbound</td>\n",
              "      <td>NTC</td>\n",
              "      <td>KMYV</td>\n",
              "      <td>AW</td>\n",
              "      <td>Awarded</td>\n",
              "      <td>TND</td>\n",
              "      <td>Tender</td>\n",
              "      <td>2018-04-06 00:00:00</td>\n",
              "      <td>2018-04-06 11:48:49</td>\n",
              "      <td>N</td>\n",
              "      <td>N</td>\n",
              "      <td>P</td>\n",
              "      <td>Primary</td>\n",
              "      <td>40.0</td>\n",
              "      <td>Truck</td>\n",
              "      <td>V</td>\n",
              "      <td>SP-KC</td>\n",
              "      <td>MO</td>\n",
              "      <td>SP-4S</td>\n",
              "      <td>KS</td>\n",
              "      <td>KANSAS CITY</td>\n",
              "      <td>EDGERTON</td>\n",
              "      <td>US</td>\n",
              "      <td>US</td>\n",
              "      <td>SP-KC To SP-4S</td>\n",
              "      <td>US-641</td>\n",
              "      <td>US-660</td>\n",
              "      <td>US-MO-64120</td>\n",
              "      <td>US-KS-66021</td>\n",
              "      <td>DRY WEST</td>\n",
              "      <td>2018-04-25 00:00:00</td>\n",
              "      <td>D</td>\n",
              "      <td>Dry</td>\n",
              "      <td>D</td>\n",
              "      <td>Dry</td>\n",
              "      <td>2018</td>\n",
              "      <td>2018</td>\n",
              "      <td>2018-04-02 00:00:00</td>\n",
              "      <td>2018-04-08 00:00:00</td>\n",
              "      <td>Apr</td>\n",
              "      <td>F18-WK 45</td>\n",
              "      <td>KMYV</td>\n",
              "      <td>Y</td>\n",
              "      <td>KMYV</td>\n",
              "      <td>Y</td>\n",
              "      <td>P</td>\n",
              "      <td>100</td>\n",
              "      <td>100</td>\n",
              "    </tr>\n",
              "    <tr>\n",
              "      <th>4</th>\n",
              "      <td>71901080</td>\n",
              "      <td>1.0</td>\n",
              "      <td>II</td>\n",
              "      <td>Intercomp/Interplnt</td>\n",
              "      <td>O</td>\n",
              "      <td>Outbound</td>\n",
              "      <td>TC</td>\n",
              "      <td>TJIS</td>\n",
              "      <td>AW</td>\n",
              "      <td>Awarded</td>\n",
              "      <td>TND</td>\n",
              "      <td>Tender</td>\n",
              "      <td>2018-04-06 00:00:00</td>\n",
              "      <td>2018-04-06 10:18:47</td>\n",
              "      <td>N</td>\n",
              "      <td>N</td>\n",
              "      <td>P</td>\n",
              "      <td>Primary</td>\n",
              "      <td>40.0</td>\n",
              "      <td>Truck</td>\n",
              "      <td>V</td>\n",
              "      <td>SP-WS</td>\n",
              "      <td>OH</td>\n",
              "      <td>SP-JT</td>\n",
              "      <td>AR</td>\n",
              "      <td>WELLSTON</td>\n",
              "      <td>WEST MEMPHIS</td>\n",
              "      <td>US</td>\n",
              "      <td>US</td>\n",
              "      <td>SP-WS To SP-JT</td>\n",
              "      <td>US-456</td>\n",
              "      <td>US-723</td>\n",
              "      <td>US-OH-45692</td>\n",
              "      <td>US-AR-72301</td>\n",
              "      <td>TEMP EAST</td>\n",
              "      <td>2018-04-12 00:00:00</td>\n",
              "      <td>F</td>\n",
              "      <td>Frozen</td>\n",
              "      <td>F</td>\n",
              "      <td>Frozen</td>\n",
              "      <td>2018</td>\n",
              "      <td>2018</td>\n",
              "      <td>2018-04-02 00:00:00</td>\n",
              "      <td>2018-04-08 00:00:00</td>\n",
              "      <td>Apr</td>\n",
              "      <td>F18-WK 45</td>\n",
              "      <td>TJIS</td>\n",
              "      <td>Y</td>\n",
              "      <td>TJIS</td>\n",
              "      <td>Y</td>\n",
              "      <td>P</td>\n",
              "      <td>100</td>\n",
              "      <td>100</td>\n",
              "    </tr>\n",
              "  </tbody>\n",
              "</table>\n",
              "</div>"
            ],
            "text/plain": [
              "   shipment number  ...  tndr_target_share_percent\n",
              "0         71899922  ...                         15\n",
              "1         71899419  ...                        100\n",
              "2         71900703  ...                         10\n",
              "3         71902024  ...                        100\n",
              "4         71901080  ...                        100\n",
              "\n",
              "[5 rows x 53 columns]"
            ]
          },
          "metadata": {
            "tags": []
          },
          "execution_count": 2
        }
      ]
    },
    {
      "cell_type": "code",
      "metadata": {
        "colab": {
          "base_uri": "https://localhost:8080/"
        },
        "id": "Sfmbd6_IQXXh",
        "outputId": "2170cd97-54ae-41ef-ac64-c92e6f328099"
      },
      "source": [
        "df.columns"
      ],
      "execution_count": null,
      "outputs": [
        {
          "output_type": "execute_result",
          "data": {
            "text/plain": [
              "Index(['shipment number', 'hit_or_miss', 'distribution_channel_cd',\n",
              "       'distribution_channel_desc', 'shp_type_indicator_fg',\n",
              "       'shp_type_indicator_desc', 'transport_group_cd', 'award_carrier_cd',\n",
              "       'event_action_cd', 'event_action_desc', 'event_type_cd',\n",
              "       'event_type_desc', 'creation_dt', 'creation_ts', 'first_tender_fg',\n",
              "       'first_response_fg', 'carrier_type_cd', 'carrier_type_desc',\n",
              "       'shipping_condition_cd', 'shipping_condition_desc',\n",
              "       'preceding_document_category_cd', 'source_location_cd',\n",
              "       'location_from_state_cd', 'destination_location_cd',\n",
              "       'location_to_state_cd', 'origin_city_nm', 'destination_city_nm',\n",
              "       'origin_country_cd', 'destination_country_cd', 'transport_lane',\n",
              "       'source_location_zone_cd', 'destination_location_zone_cd',\n",
              "       'source_zip_cd', 'destination_zip_cd', 'transport_region',\n",
              "       'freight_order_departure_dt', 'temp_condition_cd',\n",
              "       'temp_condition_desc', 'temp_channel_cd', 'temp_channel_desc',\n",
              "       'creation_dt_year_nbr', 'fiscal_year_nbr', 'fiscal_week_begin_dt',\n",
              "       'fiscal_week_end_dt', 'fiscal_month_desc', 'fiscal_year_week_tag',\n",
              "       'acpt_carrier_cd', 'acpt_first_response_fg', 'tndr_carrier_cd',\n",
              "       'tndr_first_tender_fg', 'tndr_carrier_type_cd',\n",
              "       'award_target_share_percent', 'tndr_target_share_percent'],\n",
              "      dtype='object')"
            ]
          },
          "metadata": {
            "tags": []
          },
          "execution_count": 3
        }
      ]
    },
    {
      "cell_type": "code",
      "metadata": {
        "colab": {
          "base_uri": "https://localhost:8080/"
        },
        "id": "8BG-EgMNQdB6",
        "outputId": "5177f365-dcfc-4669-f2f1-81d3b1736d60"
      },
      "source": [
        "df.dtypes"
      ],
      "execution_count": null,
      "outputs": [
        {
          "output_type": "execute_result",
          "data": {
            "text/plain": [
              "shipment number                     int64\n",
              "hit_or_miss                       float64\n",
              "distribution_channel_cd            object\n",
              "distribution_channel_desc          object\n",
              "shp_type_indicator_fg              object\n",
              "shp_type_indicator_desc            object\n",
              "transport_group_cd                 object\n",
              "award_carrier_cd                   object\n",
              "event_action_cd                    object\n",
              "event_action_desc                  object\n",
              "event_type_cd                      object\n",
              "event_type_desc                    object\n",
              "creation_dt                        object\n",
              "creation_ts                        object\n",
              "first_tender_fg                    object\n",
              "first_response_fg                  object\n",
              "carrier_type_cd                    object\n",
              "carrier_type_desc                  object\n",
              "shipping_condition_cd             float64\n",
              "shipping_condition_desc            object\n",
              "preceding_document_category_cd     object\n",
              "source_location_cd                 object\n",
              "location_from_state_cd             object\n",
              "destination_location_cd            object\n",
              "location_to_state_cd               object\n",
              "origin_city_nm                     object\n",
              "destination_city_nm                object\n",
              "origin_country_cd                  object\n",
              "destination_country_cd             object\n",
              "transport_lane                     object\n",
              "source_location_zone_cd            object\n",
              "destination_location_zone_cd       object\n",
              "source_zip_cd                      object\n",
              "destination_zip_cd                 object\n",
              "transport_region                   object\n",
              "freight_order_departure_dt         object\n",
              "temp_condition_cd                  object\n",
              "temp_condition_desc                object\n",
              "temp_channel_cd                    object\n",
              "temp_channel_desc                  object\n",
              "creation_dt_year_nbr                int64\n",
              "fiscal_year_nbr                     int64\n",
              "fiscal_week_begin_dt               object\n",
              "fiscal_week_end_dt                 object\n",
              "fiscal_month_desc                  object\n",
              "fiscal_year_week_tag               object\n",
              "acpt_carrier_cd                    object\n",
              "acpt_first_response_fg             object\n",
              "tndr_carrier_cd                    object\n",
              "tndr_first_tender_fg               object\n",
              "tndr_carrier_type_cd               object\n",
              "award_target_share_percent          int64\n",
              "tndr_target_share_percent           int64\n",
              "dtype: object"
            ]
          },
          "metadata": {
            "tags": []
          },
          "execution_count": 4
        }
      ]
    },
    {
      "cell_type": "code",
      "metadata": {
        "id": "ti6OghrhQg4W"
      },
      "source": [
        "df.isnull().sum()"
      ],
      "execution_count": null,
      "outputs": []
    },
    {
      "cell_type": "code",
      "metadata": {
        "colab": {
          "base_uri": "https://localhost:8080/"
        },
        "id": "3pVpBv3IQ3lo",
        "outputId": "12c15785-ba22-4fe5-e3f8-19f204c09ca4"
      },
      "source": [
        "df['hit_or_miss'].value_counts()"
      ],
      "execution_count": null,
      "outputs": [
        {
          "output_type": "execute_result",
          "data": {
            "text/plain": [
              "1.0    91085\n",
              "0.0     8715\n",
              "Name: hit_or_miss, dtype: int64"
            ]
          },
          "metadata": {
            "tags": []
          },
          "execution_count": 6
        }
      ]
    },
    {
      "cell_type": "code",
      "metadata": {
        "id": "Cf5I9hadRxQR"
      },
      "source": [
        "#Imputing the missing rows\n",
        "#Balancing the dataset\n",
        "#Removing the columns\n",
        "df['distribution_channel_desc'] = df['distribution_channel_desc'].fillna('Other')"
      ],
      "execution_count": null,
      "outputs": []
    },
    {
      "cell_type": "code",
      "metadata": {
        "id": "N6EKxRh1Xsrf"
      },
      "source": [
        "dropped_columns = ['shipment number','shp_type_indicator_fg','event_action_cd','event_type_cd',\n",
        "                   'creation_dt','carrier_type_cd','shipping_condition_cd','temp_condition_cd']\n"
      ],
      "execution_count": null,
      "outputs": []
    },
    {
      "cell_type": "code",
      "metadata": {
        "id": "vAnvHNG9WQTb"
      },
      "source": [
        "df.isnull().sum()"
      ],
      "execution_count": null,
      "outputs": []
    },
    {
      "cell_type": "code",
      "metadata": {
        "id": "2X_qEACKWSVn"
      },
      "source": [
        "del df['distribution_channel_cd']"
      ],
      "execution_count": null,
      "outputs": []
    },
    {
      "cell_type": "code",
      "metadata": {
        "colab": {
          "base_uri": "https://localhost:8080/"
        },
        "id": "Fq1nNXf6WzpS",
        "outputId": "fc9b8c03-813a-4c44-a333-640e9d4679c7"
      },
      "source": [
        "df.isnull().sum().sum()"
      ],
      "execution_count": null,
      "outputs": [
        {
          "output_type": "execute_result",
          "data": {
            "text/plain": [
              "5694"
            ]
          },
          "metadata": {
            "tags": []
          },
          "execution_count": 11
        }
      ]
    },
    {
      "cell_type": "code",
      "metadata": {
        "id": "8k5B6Js9W1gY"
      },
      "source": [
        "df.drop(dropped_columns,axis=1,inplace=True)"
      ],
      "execution_count": null,
      "outputs": []
    },
    {
      "cell_type": "code",
      "metadata": {
        "colab": {
          "base_uri": "https://localhost:8080/"
        },
        "id": "UCbdQiCDYznf",
        "outputId": "2cf69b28-f420-41bb-ffa1-e22b45805505"
      },
      "source": [
        "df.shape"
      ],
      "execution_count": null,
      "outputs": [
        {
          "output_type": "execute_result",
          "data": {
            "text/plain": [
              "(99800, 44)"
            ]
          },
          "metadata": {
            "tags": []
          },
          "execution_count": 13
        }
      ]
    },
    {
      "cell_type": "code",
      "metadata": {
        "id": "UgDV5MayY05k"
      },
      "source": [
        "df.dropna(inplace=True)"
      ],
      "execution_count": null,
      "outputs": []
    },
    {
      "cell_type": "code",
      "metadata": {
        "colab": {
          "base_uri": "https://localhost:8080/"
        },
        "id": "XOICmNV0ZGAc",
        "outputId": "070924c2-d2a4-49cc-943c-69e5e460de33"
      },
      "source": [
        "df.shape"
      ],
      "execution_count": null,
      "outputs": [
        {
          "output_type": "execute_result",
          "data": {
            "text/plain": [
              "(94142, 44)"
            ]
          },
          "metadata": {
            "tags": []
          },
          "execution_count": 15
        }
      ]
    },
    {
      "cell_type": "code",
      "metadata": {
        "id": "EDEXfj6FZGr0"
      },
      "source": [
        "df.isnull().sum()"
      ],
      "execution_count": null,
      "outputs": []
    },
    {
      "cell_type": "code",
      "metadata": {
        "id": "WOis3MdeZI6Y"
      },
      "source": [
        "df.dtypes"
      ],
      "execution_count": null,
      "outputs": []
    },
    {
      "cell_type": "code",
      "metadata": {
        "id": "EbmK2_TkZwEG"
      },
      "source": [
        "datetime_columns = ['creation_ts','freight_order_departure_dt','fiscal_week_begin_dt','fiscal_week_end_dt']"
      ],
      "execution_count": null,
      "outputs": []
    },
    {
      "cell_type": "code",
      "metadata": {
        "id": "Vu7XiL1AZ1yJ"
      },
      "source": [
        "df['creation_ts'] = pd.to_datetime(df.creation_ts)\n",
        "df['freight_order_departure_dt'] = pd.to_datetime(df.freight_order_departure_dt)\n",
        "df['fiscal_week_begin_dt'] = pd.to_datetime(df.fiscal_week_begin_dt)\n",
        "df['fiscal_week_end_dt'] = pd.to_datetime(df.fiscal_week_end_dt)"
      ],
      "execution_count": null,
      "outputs": []
    },
    {
      "cell_type": "code",
      "metadata": {
        "id": "0Pt_HyGnalcO"
      },
      "source": [
        "df.dtypes"
      ],
      "execution_count": null,
      "outputs": []
    },
    {
      "cell_type": "code",
      "metadata": {
        "id": "O31giy2CampP"
      },
      "source": [
        "# day\n",
        "df['creation_ts_day'] = df['creation_ts'].dt.day\n",
        "# month\n",
        "df['creation_ts_month'] = df['creation_ts'].dt.month\n",
        "# year\n",
        "df['creation_ts_year'] = df['creation_ts'].dt.year"
      ],
      "execution_count": null,
      "outputs": []
    },
    {
      "cell_type": "code",
      "metadata": {
        "id": "I_6vANQzbqka"
      },
      "source": [
        "# day\n",
        "df['freight_order_departure_dt_day'] = df['freight_order_departure_dt'].dt.day\n",
        "# month\n",
        "df['freight_order_departure_dt_month'] = df['freight_order_departure_dt'].dt.month\n",
        "# year\n",
        "df['freight_order_departure_dt_year'] = df['freight_order_departure_dt'].dt.year"
      ],
      "execution_count": null,
      "outputs": []
    },
    {
      "cell_type": "code",
      "metadata": {
        "id": "WzMY0waXb6KT"
      },
      "source": [
        "df['fiscal_duration'] = df['fiscal_week_end_dt']-df['fiscal_week_begin_dt']"
      ],
      "execution_count": null,
      "outputs": []
    },
    {
      "cell_type": "code",
      "metadata": {
        "id": "I-BVY2QqcKtx"
      },
      "source": [
        "df.dtypes"
      ],
      "execution_count": null,
      "outputs": []
    },
    {
      "cell_type": "code",
      "metadata": {
        "id": "cI3rOxITcMjy"
      },
      "source": [
        "del df['creation_ts']\n",
        "del df['freight_order_departure_dt']\n",
        "del df['fiscal_week_begin_dt']\n",
        "del df['fiscal_week_end_dt']"
      ],
      "execution_count": null,
      "outputs": []
    },
    {
      "cell_type": "code",
      "metadata": {
        "id": "xDhq7bG5cl-I"
      },
      "source": [
        "from datetime import timedelta\n",
        "df['fiscal_duration'] = df['fiscal_duration']/timedelta(days=1)"
      ],
      "execution_count": null,
      "outputs": []
    },
    {
      "cell_type": "code",
      "metadata": {
        "id": "7vuaVoPcdAg7"
      },
      "source": [
        "df['creation_ts_day'] = df['creation_ts_day'].apply(str)\n",
        "df['creation_ts_month'] = df['creation_ts_month'].apply(str)\n",
        "df['creation_ts_year'] = df['creation_ts_year'].apply(str)\n",
        "df['freight_order_departure_dt_day'] = df['freight_order_departure_dt_day'].apply(str)\n",
        "df['freight_order_departure_dt_month'] = df['freight_order_departure_dt_month'].apply(str)\n",
        "df['freight_order_departure_dt_year'] = df['freight_order_departure_dt_year'].apply(str)"
      ],
      "execution_count": null,
      "outputs": []
    },
    {
      "cell_type": "code",
      "metadata": {
        "id": "hlND669Odzxc"
      },
      "source": [
        "df['hit_or_miss'] = df['hit_or_miss'].apply(str)"
      ],
      "execution_count": null,
      "outputs": []
    },
    {
      "cell_type": "code",
      "metadata": {
        "id": "TpOQNyn-eEl2"
      },
      "source": [
        "df['fiscal_year_nbr'] = df['fiscal_year_nbr'].apply(str)\n",
        "df['creation_dt_year_nbr'] = df['creation_dt_year_nbr'].apply(str)"
      ],
      "execution_count": null,
      "outputs": []
    },
    {
      "cell_type": "code",
      "metadata": {
        "id": "bEVIOii0ckOa"
      },
      "source": [
        "df.dtypes"
      ],
      "execution_count": null,
      "outputs": []
    },
    {
      "cell_type": "code",
      "metadata": {
        "id": "v7tD21-8hftN"
      },
      "source": [
        ""
      ],
      "execution_count": null,
      "outputs": []
    },
    {
      "cell_type": "code",
      "metadata": {
        "colab": {
          "base_uri": "https://localhost:8080/"
        },
        "id": "WdWw2K5ndmSO",
        "outputId": "1a1ae93a-d075-4425-cbca-3b369aabe985"
      },
      "source": [
        "import imblearn"
      ],
      "execution_count": null,
      "outputs": [
        {
          "output_type": "stream",
          "text": [
            "/usr/local/lib/python3.6/dist-packages/sklearn/externals/six.py:31: FutureWarning: The module is deprecated in version 0.21 and will be removed in version 0.23 since we've dropped support for Python 2.7. Please rely on the official version of six (https://pypi.org/project/six/).\n",
            "  \"(https://pypi.org/project/six/).\", FutureWarning)\n",
            "/usr/local/lib/python3.6/dist-packages/sklearn/utils/deprecation.py:144: FutureWarning: The sklearn.neighbors.base module is  deprecated in version 0.22 and will be removed in version 0.24. The corresponding classes / functions should instead be imported from sklearn.neighbors. Anything that cannot be imported from sklearn.neighbors is now part of the private API.\n",
            "  warnings.warn(message, FutureWarning)\n"
          ],
          "name": "stderr"
        }
      ]
    },
    {
      "cell_type": "code",
      "metadata": {
        "id": "VQrsJ7WqedFy"
      },
      "source": [
        "X = df.drop('hit_or_miss',axis=1)"
      ],
      "execution_count": null,
      "outputs": []
    },
    {
      "cell_type": "code",
      "metadata": {
        "colab": {
          "base_uri": "https://localhost:8080/"
        },
        "id": "wUfQDY-Met2i",
        "outputId": "4c6e75d5-7ab0-44d4-ba5e-2dbed14ee3d6"
      },
      "source": [
        "X.shape"
      ],
      "execution_count": null,
      "outputs": [
        {
          "output_type": "execute_result",
          "data": {
            "text/plain": [
              "(94142, 46)"
            ]
          },
          "metadata": {
            "tags": []
          },
          "execution_count": 33
        }
      ]
    },
    {
      "cell_type": "code",
      "metadata": {
        "id": "ScATf1JbeuhZ"
      },
      "source": [
        "y = df['hit_or_miss']"
      ],
      "execution_count": null,
      "outputs": []
    },
    {
      "cell_type": "code",
      "metadata": {
        "colab": {
          "base_uri": "https://localhost:8080/"
        },
        "id": "3jPYnuJ3ewPa",
        "outputId": "180ffc46-89a4-43d8-ee7b-437f6dd9d548"
      },
      "source": [
        "y.shape"
      ],
      "execution_count": null,
      "outputs": [
        {
          "output_type": "execute_result",
          "data": {
            "text/plain": [
              "(94142,)"
            ]
          },
          "metadata": {
            "tags": []
          },
          "execution_count": 35
        }
      ]
    },
    {
      "cell_type": "code",
      "metadata": {
        "id": "dtfVX4_igA_C"
      },
      "source": [
        "object_columns = list(X.select_dtypes(['object']).columns)"
      ],
      "execution_count": null,
      "outputs": []
    },
    {
      "cell_type": "code",
      "metadata": {
        "id": "vWvM5FIPgpaN"
      },
      "source": [
        "object_columns"
      ],
      "execution_count": null,
      "outputs": []
    },
    {
      "cell_type": "code",
      "metadata": {
        "colab": {
          "base_uri": "https://localhost:8080/"
        },
        "id": "9t3tA1zLjVyZ",
        "outputId": "1d09bbbe-a314-4234-d79a-f196d5be5f29"
      },
      "source": [
        "len(X.columns)"
      ],
      "execution_count": null,
      "outputs": [
        {
          "output_type": "execute_result",
          "data": {
            "text/plain": [
              "46"
            ]
          },
          "metadata": {
            "tags": []
          },
          "execution_count": 41
        }
      ]
    },
    {
      "cell_type": "code",
      "metadata": {
        "id": "HfGDbI57jdr4"
      },
      "source": [
        "cat_features"
      ],
      "execution_count": null,
      "outputs": []
    },
    {
      "cell_type": "code",
      "metadata": {
        "id": "g6bBZtqri1oN"
      },
      "source": [
        "print(X.columns)"
      ],
      "execution_count": null,
      "outputs": []
    },
    {
      "cell_type": "code",
      "metadata": {
        "id": "kAQTw-2KkHlQ"
      },
      "source": [
        "cat_features = []\n",
        "for i in range(len(X.columns)):\n",
        "  if X.columns[i] in object_columns:\n",
        "    cat_features.append(i)"
      ],
      "execution_count": null,
      "outputs": []
    },
    {
      "cell_type": "code",
      "metadata": {
        "colab": {
          "base_uri": "https://localhost:8080/"
        },
        "id": "tCc47rkAkUnL",
        "outputId": "fccc4aeb-83c1-436a-90b1-365ce29afa0d"
      },
      "source": [
        "print(cat_features)"
      ],
      "execution_count": null,
      "outputs": [
        {
          "output_type": "stream",
          "text": [
            "[0, 1, 2, 3, 4, 5, 6, 7, 8, 9, 10, 11, 12, 13, 14, 15, 16, 17, 18, 19, 20, 21, 22, 23, 24, 25, 26, 27, 28, 29, 30, 31, 32, 33, 34, 35, 36, 39, 40, 41, 42, 43, 44]\n"
          ],
          "name": "stdout"
        }
      ]
    },
    {
      "cell_type": "code",
      "metadata": {
        "colab": {
          "base_uri": "https://localhost:8080/"
        },
        "id": "37wSuq8Pf1kp",
        "outputId": "b2dfba11-45fb-4980-a051-44a79d2c2dba"
      },
      "source": [
        "from imblearn.over_sampling import SMOTENC\n",
        "sm = SMOTENC(categorical_features=cat_features, random_state=123, sampling_strategy=.6)\n",
        "X_oversampled, y_oversampled = sm.fit_resample(X, y)"
      ],
      "execution_count": null,
      "outputs": [
        {
          "output_type": "stream",
          "text": [
            "/usr/local/lib/python3.6/dist-packages/sklearn/utils/deprecation.py:87: FutureWarning: Function safe_indexing is deprecated; safe_indexing is deprecated in version 0.22 and will be removed in version 0.24.\n",
            "  warnings.warn(msg, category=FutureWarning)\n",
            "/usr/local/lib/python3.6/dist-packages/sklearn/utils/deprecation.py:87: FutureWarning: Function safe_indexing is deprecated; safe_indexing is deprecated in version 0.22 and will be removed in version 0.24.\n",
            "  warnings.warn(msg, category=FutureWarning)\n"
          ],
          "name": "stderr"
        }
      ]
    },
    {
      "cell_type": "code",
      "metadata": {
        "colab": {
          "base_uri": "https://localhost:8080/"
        },
        "id": "AVSZVFtxf1th",
        "outputId": "23d1d861-e915-4938-d499-6513492f0b7c"
      },
      "source": [
        "X_oversampled.shape"
      ],
      "execution_count": null,
      "outputs": [
        {
          "output_type": "execute_result",
          "data": {
            "text/plain": [
              "(137734, 46)"
            ]
          },
          "metadata": {
            "tags": []
          },
          "execution_count": 50
        }
      ]
    },
    {
      "cell_type": "code",
      "metadata": {
        "colab": {
          "base_uri": "https://localhost:8080/"
        },
        "id": "jJtv_7g9fIsa",
        "outputId": "09e23eb3-a747-4ac8-fdff-9e52da0183e5"
      },
      "source": [
        "y_oversampled.shape"
      ],
      "execution_count": null,
      "outputs": [
        {
          "output_type": "execute_result",
          "data": {
            "text/plain": [
              "(137734,)"
            ]
          },
          "metadata": {
            "tags": []
          },
          "execution_count": 51
        }
      ]
    },
    {
      "cell_type": "code",
      "metadata": {
        "id": "idPkg4-FlQ3P"
      },
      "source": [
        "y_oversampled.value_counts()"
      ],
      "execution_count": null,
      "outputs": []
    },
    {
      "cell_type": "code",
      "metadata": {
        "id": "rKhAuQm7lXEU"
      },
      "source": [
        "df_X = pd.DataFrame(X_oversampled, columns = list(X.columns))"
      ],
      "execution_count": null,
      "outputs": []
    },
    {
      "cell_type": "code",
      "metadata": {
        "id": "_ltjWajSlota"
      },
      "source": [
        "df_y = pd.DataFrame(y_oversampled, columns = ['Target'])"
      ],
      "execution_count": null,
      "outputs": []
    },
    {
      "cell_type": "code",
      "metadata": {
        "id": "inGQXnqPltoy"
      },
      "source": [
        "df_y.head()"
      ],
      "execution_count": null,
      "outputs": []
    },
    {
      "cell_type": "code",
      "metadata": {
        "colab": {
          "base_uri": "https://localhost:8080/"
        },
        "id": "4RMAnqjUlyo3",
        "outputId": "07b9c656-3e53-4eba-f594-f01feda997c3"
      },
      "source": [
        "df_y['Target'].value_counts()"
      ],
      "execution_count": null,
      "outputs": [
        {
          "output_type": "execute_result",
          "data": {
            "text/plain": [
              "1.0    86084\n",
              "0.0    51650\n",
              "Name: Target, dtype: int64"
            ]
          },
          "metadata": {
            "tags": []
          },
          "execution_count": 57
        }
      ]
    },
    {
      "cell_type": "code",
      "metadata": {
        "id": "L807IHpal-TP"
      },
      "source": [
        "df_X.to_csv('df_X.csv',index=False)\n",
        "df_y.to_csv('df_y.csv',index=False)"
      ],
      "execution_count": null,
      "outputs": []
    },
    {
      "cell_type": "code",
      "metadata": {
        "id": "DxopFfeTl-jm"
      },
      "source": [
        "from sklearn.model_selection import cross_val_score\n",
        "from sklearn.model_selection import RepeatedStratifiedKFold\n",
        "from sklearn.ensemble import RandomForestClassifier"
      ],
      "execution_count": null,
      "outputs": []
    },
    {
      "cell_type": "code",
      "metadata": {
        "id": "H0nlXquHnwzz"
      },
      "source": [
        "encoded_X = pd.get_dummies(df_X)"
      ],
      "execution_count": null,
      "outputs": []
    },
    {
      "cell_type": "code",
      "metadata": {
        "colab": {
          "base_uri": "https://localhost:8080/"
        },
        "id": "6PT6BxPJoBL0",
        "outputId": "84230c23-5bd8-410a-c3f2-4d4b10296d1e"
      },
      "source": [
        "encoded_X.shape"
      ],
      "execution_count": null,
      "outputs": [
        {
          "output_type": "execute_result",
          "data": {
            "text/plain": [
              "(137734, 19135)"
            ]
          },
          "metadata": {
            "tags": []
          },
          "execution_count": 64
        }
      ]
    },
    {
      "cell_type": "code",
      "metadata": {
        "id": "9ubI3b2hpVCT"
      },
      "source": [
        "!pip install catboost"
      ],
      "execution_count": null,
      "outputs": []
    },
    {
      "cell_type": "code",
      "metadata": {
        "id": "CD6TzikIpvwT"
      },
      "source": [
        "from catboost import CatBoostClassifier\n",
        "\n",
        "clf = CatBoostClassifier(\n",
        "    iterations=5, \n",
        "    learning_rate=0.1, \n",
        "    #loss_function='CrossEntropy'\n",
        ")\n"
      ],
      "execution_count": null,
      "outputs": []
    },
    {
      "cell_type": "code",
      "metadata": {
        "id": "BV9k5YBSp4vd"
      },
      "source": [
        "from sklearn.model_selection import train_test_split\n",
        "\n",
        "X_train, X_val, y_train, y_val = train_test_split(df_X, df_y, test_size=0.3, random_state=0)"
      ],
      "execution_count": null,
      "outputs": []
    },
    {
      "cell_type": "code",
      "metadata": {
        "colab": {
          "base_uri": "https://localhost:8080/"
        },
        "id": "ifV86Z7tp47K",
        "outputId": "42e732ba-cf66-44ca-c206-cfd0fd5c6cde"
      },
      "source": [
        "clf.fit(X_train, y_train, \n",
        "        cat_features=cat_features, \n",
        "        eval_set=(X_val, y_val), \n",
        "        verbose=False\n",
        ")"
      ],
      "execution_count": null,
      "outputs": [
        {
          "output_type": "execute_result",
          "data": {
            "text/plain": [
              "<catboost.core.CatBoostClassifier at 0x7f0c94b8d860>"
            ]
          },
          "metadata": {
            "tags": []
          },
          "execution_count": 70
        }
      ]
    },
    {
      "cell_type": "code",
      "metadata": {
        "colab": {
          "base_uri": "https://localhost:8080/"
        },
        "id": "31kOc8fSqD9-",
        "outputId": "8cec1f47-b8dd-4905-8dd0-507bfe4cbce0"
      },
      "source": [
        "print('CatBoost model is fitted: ' + str(clf.is_fitted()))\n",
        "print('CatBoost model parameters:')\n",
        "print(clf.get_params())"
      ],
      "execution_count": null,
      "outputs": [
        {
          "output_type": "stream",
          "text": [
            "CatBoost model is fitted: True\n",
            "CatBoost model parameters:\n",
            "{'learning_rate': 0.1, 'iterations': 5}\n"
          ],
          "name": "stdout"
        }
      ]
    },
    {
      "cell_type": "code",
      "metadata": {
        "colab": {
          "base_uri": "https://localhost:8080/"
        },
        "id": "hNXTrpTPqEJq",
        "outputId": "fcb1342f-2e78-48e4-f7bc-feee3a55b6f8"
      },
      "source": [
        "from sklearn.metrics import confusion_matrix, accuracy_score,f1_score\n",
        "y_pred = clf.predict(X_val)\n",
        "cm = confusion_matrix(y_val, y_pred)\n",
        "print(cm)\n",
        "accuracy_score(y_val, y_pred)"
      ],
      "execution_count": null,
      "outputs": [
        {
          "output_type": "stream",
          "text": [
            "[[15591    37]\n",
            " [    2 25691]]\n"
          ],
          "name": "stdout"
        },
        {
          "output_type": "execute_result",
          "data": {
            "text/plain": [
              "0.9990561699862056"
            ]
          },
          "metadata": {
            "tags": []
          },
          "execution_count": 135
        }
      ]
    },
    {
      "cell_type": "code",
      "metadata": {
        "colab": {
          "base_uri": "https://localhost:8080/"
        },
        "id": "lgt-LpCc6yNX",
        "outputId": "93161d0c-b724-48cc-cc13-d84d705004ec"
      },
      "source": [
        "print(f1_score(y_val, y_pred, average=\"macro\"))"
      ],
      "execution_count": null,
      "outputs": [
        {
          "output_type": "stream",
          "text": [
            "0.9989961978934767\n"
          ],
          "name": "stdout"
        }
      ]
    },
    {
      "cell_type": "code",
      "metadata": {
        "id": "-Q5aV_6E6s6E"
      },
      "source": [
        ""
      ],
      "execution_count": null,
      "outputs": []
    },
    {
      "cell_type": "code",
      "metadata": {
        "colab": {
          "base_uri": "https://localhost:8080/"
        },
        "id": "Sl-nlT1fvlpt",
        "outputId": "2cd1d219-3d4e-413a-e703-47c4ae9ee224"
      },
      "source": [
        "y_pred"
      ],
      "execution_count": null,
      "outputs": [
        {
          "output_type": "execute_result",
          "data": {
            "text/plain": [
              "array(['0.0', '1.0', '0.0', ..., '0.0', '0.0', '1.0'], dtype=object)"
            ]
          },
          "metadata": {
            "tags": []
          },
          "execution_count": 80
        }
      ]
    },
    {
      "cell_type": "code",
      "metadata": {
        "id": "2Xkc7b9kr5hm"
      },
      "source": [
        "# save the model to disk\n",
        "import pickle\n",
        "filename = 'finalized_model.sav'\n",
        "pickle.dump(clf, open(filename, 'wb'))"
      ],
      "execution_count": null,
      "outputs": []
    },
    {
      "cell_type": "code",
      "metadata": {
        "colab": {
          "base_uri": "https://localhost:8080/",
          "height": 326
        },
        "id": "6Qww70MUtLnO",
        "outputId": "d810cce7-8ce9-473d-86ce-1faaa04eac47"
      },
      "source": [
        "test_submission = pd.read_csv(\"/content/final_test_data.csv\")\n",
        "test_submission.head()"
      ],
      "execution_count": null,
      "outputs": [
        {
          "output_type": "execute_result",
          "data": {
            "text/html": [
              "<div>\n",
              "<style scoped>\n",
              "    .dataframe tbody tr th:only-of-type {\n",
              "        vertical-align: middle;\n",
              "    }\n",
              "\n",
              "    .dataframe tbody tr th {\n",
              "        vertical-align: top;\n",
              "    }\n",
              "\n",
              "    .dataframe thead th {\n",
              "        text-align: right;\n",
              "    }\n",
              "</style>\n",
              "<table border=\"1\" class=\"dataframe\">\n",
              "  <thead>\n",
              "    <tr style=\"text-align: right;\">\n",
              "      <th></th>\n",
              "      <th>shipment number</th>\n",
              "      <th>hit_or_miss</th>\n",
              "      <th>distribution_channel_cd</th>\n",
              "      <th>distribution_channel_desc</th>\n",
              "      <th>shp_type_indicator_fg</th>\n",
              "      <th>shp_type_indicator_desc</th>\n",
              "      <th>transport_group_cd</th>\n",
              "      <th>award_carrier_cd</th>\n",
              "      <th>event_action_cd</th>\n",
              "      <th>event_action_desc</th>\n",
              "      <th>event_type_cd</th>\n",
              "      <th>event_type_desc</th>\n",
              "      <th>creation_dt</th>\n",
              "      <th>creation_ts</th>\n",
              "      <th>first_tender_fg</th>\n",
              "      <th>first_response_fg</th>\n",
              "      <th>carrier_type_cd</th>\n",
              "      <th>carrier_type_desc</th>\n",
              "      <th>shipping_condition_cd</th>\n",
              "      <th>shipping_condition_desc</th>\n",
              "      <th>preceding_document_category_cd</th>\n",
              "      <th>source_location_cd</th>\n",
              "      <th>location_from_state_cd</th>\n",
              "      <th>destination_location_cd</th>\n",
              "      <th>location_to_state_cd</th>\n",
              "      <th>origin_city_nm</th>\n",
              "      <th>destination_city_nm</th>\n",
              "      <th>origin_country_cd</th>\n",
              "      <th>destination_country_cd</th>\n",
              "      <th>transport_lane</th>\n",
              "      <th>source_location_zone_cd</th>\n",
              "      <th>destination_location_zone_cd</th>\n",
              "      <th>source_zip_cd</th>\n",
              "      <th>destination_zip_cd</th>\n",
              "      <th>transport_region</th>\n",
              "      <th>freight_order_departure_dt</th>\n",
              "      <th>temp_condition_cd</th>\n",
              "      <th>temp_condition_desc</th>\n",
              "      <th>temp_channel_cd</th>\n",
              "      <th>temp_channel_desc</th>\n",
              "      <th>creation_dt_year_nbr</th>\n",
              "      <th>fiscal_year_nbr</th>\n",
              "      <th>fiscal_week_begin_dt</th>\n",
              "      <th>fiscal_week_end_dt</th>\n",
              "      <th>fiscal_month_desc</th>\n",
              "      <th>fiscal_year_week_tag</th>\n",
              "      <th>acpt_carrier_cd</th>\n",
              "      <th>acpt_first_response_fg</th>\n",
              "      <th>tndr_carrier_cd</th>\n",
              "      <th>tndr_first_tender_fg</th>\n",
              "      <th>tndr_carrier_type_cd</th>\n",
              "      <th>award_target_share_percent</th>\n",
              "      <th>tndr_target_share_percent</th>\n",
              "    </tr>\n",
              "  </thead>\n",
              "  <tbody>\n",
              "    <tr>\n",
              "      <th>0</th>\n",
              "      <td>71619016</td>\n",
              "      <td>NaN</td>\n",
              "      <td>NaN</td>\n",
              "      <td>NaN</td>\n",
              "      <td>I</td>\n",
              "      <td>Inbound</td>\n",
              "      <td>TC</td>\n",
              "      <td>UAFL</td>\n",
              "      <td>AW</td>\n",
              "      <td>Awarded</td>\n",
              "      <td>TND</td>\n",
              "      <td>Tender</td>\n",
              "      <td>2018-04-06 00:00:00</td>\n",
              "      <td>2018-04-06 11:09:48</td>\n",
              "      <td>N</td>\n",
              "      <td>N</td>\n",
              "      <td>N</td>\n",
              "      <td>Non-Primary</td>\n",
              "      <td>41.0</td>\n",
              "      <td>LTL</td>\n",
              "      <td>V</td>\n",
              "      <td>V-00501879</td>\n",
              "      <td>IL</td>\n",
              "      <td>SP-JF</td>\n",
              "      <td>MN</td>\n",
              "      <td>CHANNAHON</td>\n",
              "      <td>GOLDEN VALLEY</td>\n",
              "      <td>US</td>\n",
              "      <td>US</td>\n",
              "      <td>V-00501879 To SP-JF</td>\n",
              "      <td>US-604</td>\n",
              "      <td>US-554</td>\n",
              "      <td>US-IL-60410</td>\n",
              "      <td>US-MN-55427</td>\n",
              "      <td>TEMP WEST</td>\n",
              "      <td>2018-01-09 00:00:00</td>\n",
              "      <td>PF</td>\n",
              "      <td>Ref protect Freezing</td>\n",
              "      <td>R</td>\n",
              "      <td>Refrigerated</td>\n",
              "      <td>2018</td>\n",
              "      <td>2018</td>\n",
              "      <td>2018-04-02 00:00:00</td>\n",
              "      <td>2018-04-08 00:00:00</td>\n",
              "      <td>Apr</td>\n",
              "      <td>F18-WK 45</td>\n",
              "      <td>UAFL</td>\n",
              "      <td>Y</td>\n",
              "      <td>UAFL</td>\n",
              "      <td>Y</td>\n",
              "      <td>N</td>\n",
              "      <td>0</td>\n",
              "      <td>0</td>\n",
              "    </tr>\n",
              "    <tr>\n",
              "      <th>1</th>\n",
              "      <td>71901931</td>\n",
              "      <td>NaN</td>\n",
              "      <td>II</td>\n",
              "      <td>Intercomp/Interplnt</td>\n",
              "      <td>O</td>\n",
              "      <td>Outbound</td>\n",
              "      <td>NTC</td>\n",
              "      <td>KMYV</td>\n",
              "      <td>AW</td>\n",
              "      <td>Awarded</td>\n",
              "      <td>TND</td>\n",
              "      <td>Tender</td>\n",
              "      <td>2018-04-06 00:00:00</td>\n",
              "      <td>2018-04-06 11:48:48</td>\n",
              "      <td>N</td>\n",
              "      <td>N</td>\n",
              "      <td>P</td>\n",
              "      <td>Primary</td>\n",
              "      <td>40.0</td>\n",
              "      <td>Truck</td>\n",
              "      <td>V</td>\n",
              "      <td>SP-KC</td>\n",
              "      <td>MO</td>\n",
              "      <td>SP-4S</td>\n",
              "      <td>KS</td>\n",
              "      <td>KANSAS CITY</td>\n",
              "      <td>EDGERTON</td>\n",
              "      <td>US</td>\n",
              "      <td>US</td>\n",
              "      <td>SP-KC To SP-4S</td>\n",
              "      <td>US-641</td>\n",
              "      <td>US-660</td>\n",
              "      <td>US-MO-64120</td>\n",
              "      <td>US-KS-66021</td>\n",
              "      <td>DRY WEST</td>\n",
              "      <td>2018-04-13 00:00:00</td>\n",
              "      <td>D</td>\n",
              "      <td>Dry</td>\n",
              "      <td>D</td>\n",
              "      <td>Dry</td>\n",
              "      <td>2018</td>\n",
              "      <td>2018</td>\n",
              "      <td>2018-04-02 00:00:00</td>\n",
              "      <td>2018-04-08 00:00:00</td>\n",
              "      <td>Apr</td>\n",
              "      <td>F18-WK 45</td>\n",
              "      <td>KMYV</td>\n",
              "      <td>Y</td>\n",
              "      <td>KMYV</td>\n",
              "      <td>Y</td>\n",
              "      <td>P</td>\n",
              "      <td>100</td>\n",
              "      <td>100</td>\n",
              "    </tr>\n",
              "    <tr>\n",
              "      <th>2</th>\n",
              "      <td>71899343</td>\n",
              "      <td>NaN</td>\n",
              "      <td>II</td>\n",
              "      <td>Intercomp/Interplnt</td>\n",
              "      <td>O</td>\n",
              "      <td>Outbound</td>\n",
              "      <td>TC</td>\n",
              "      <td>TJIS</td>\n",
              "      <td>AW</td>\n",
              "      <td>Awarded</td>\n",
              "      <td>TND</td>\n",
              "      <td>Tender</td>\n",
              "      <td>2018-04-06 00:00:00</td>\n",
              "      <td>2018-04-06 07:38:47</td>\n",
              "      <td>N</td>\n",
              "      <td>N</td>\n",
              "      <td>P</td>\n",
              "      <td>Primary</td>\n",
              "      <td>40.0</td>\n",
              "      <td>Truck</td>\n",
              "      <td>V</td>\n",
              "      <td>SP-RC</td>\n",
              "      <td>MI</td>\n",
              "      <td>SP-KA</td>\n",
              "      <td>MI</td>\n",
              "      <td>REED CITY</td>\n",
              "      <td>KALAMAZOO</td>\n",
              "      <td>US</td>\n",
              "      <td>US</td>\n",
              "      <td>SP-RC To SP-KA</td>\n",
              "      <td>US-496</td>\n",
              "      <td>US-490</td>\n",
              "      <td>US-MI-49677</td>\n",
              "      <td>US-MI-49048</td>\n",
              "      <td>TEMP WEST</td>\n",
              "      <td>2018-04-07 00:00:00</td>\n",
              "      <td>R</td>\n",
              "      <td>Refrigerated</td>\n",
              "      <td>R</td>\n",
              "      <td>Refrigerated</td>\n",
              "      <td>2018</td>\n",
              "      <td>2018</td>\n",
              "      <td>2018-04-02 00:00:00</td>\n",
              "      <td>2018-04-08 00:00:00</td>\n",
              "      <td>Apr</td>\n",
              "      <td>F18-WK 45</td>\n",
              "      <td>TJIS</td>\n",
              "      <td>Y</td>\n",
              "      <td>TJIS</td>\n",
              "      <td>Y</td>\n",
              "      <td>P</td>\n",
              "      <td>100</td>\n",
              "      <td>100</td>\n",
              "    </tr>\n",
              "    <tr>\n",
              "      <th>3</th>\n",
              "      <td>71903095</td>\n",
              "      <td>NaN</td>\n",
              "      <td>II</td>\n",
              "      <td>Intercomp/Interplnt</td>\n",
              "      <td>O</td>\n",
              "      <td>Outbound</td>\n",
              "      <td>NTC</td>\n",
              "      <td>WREC</td>\n",
              "      <td>AW</td>\n",
              "      <td>Awarded</td>\n",
              "      <td>TND</td>\n",
              "      <td>Tender</td>\n",
              "      <td>2018-04-06 00:00:00</td>\n",
              "      <td>2018-04-06 14:39:52</td>\n",
              "      <td>N</td>\n",
              "      <td>N</td>\n",
              "      <td>N</td>\n",
              "      <td>Non-Primary</td>\n",
              "      <td>40.0</td>\n",
              "      <td>Truck</td>\n",
              "      <td>V</td>\n",
              "      <td>SP-KC</td>\n",
              "      <td>MO</td>\n",
              "      <td>SP-WL</td>\n",
              "      <td>IL</td>\n",
              "      <td>KANSAS CITY</td>\n",
              "      <td>WILMINGTON</td>\n",
              "      <td>US</td>\n",
              "      <td>US</td>\n",
              "      <td>SP-KC To SP-WL</td>\n",
              "      <td>US-641</td>\n",
              "      <td>US-604</td>\n",
              "      <td>US-MO-64120</td>\n",
              "      <td>US-IL-60481</td>\n",
              "      <td>DRY WEST</td>\n",
              "      <td>2018-04-13 00:00:00</td>\n",
              "      <td>D</td>\n",
              "      <td>Dry</td>\n",
              "      <td>D</td>\n",
              "      <td>Dry</td>\n",
              "      <td>2018</td>\n",
              "      <td>2018</td>\n",
              "      <td>2018-04-02 00:00:00</td>\n",
              "      <td>2018-04-08 00:00:00</td>\n",
              "      <td>Apr</td>\n",
              "      <td>F18-WK 45</td>\n",
              "      <td>WREC</td>\n",
              "      <td>Y</td>\n",
              "      <td>WREC</td>\n",
              "      <td>Y</td>\n",
              "      <td>N</td>\n",
              "      <td>0</td>\n",
              "      <td>0</td>\n",
              "    </tr>\n",
              "    <tr>\n",
              "      <th>4</th>\n",
              "      <td>71900123</td>\n",
              "      <td>NaN</td>\n",
              "      <td>RT</td>\n",
              "      <td>Retail</td>\n",
              "      <td>O</td>\n",
              "      <td>Outbound</td>\n",
              "      <td>TC</td>\n",
              "      <td>TJIS</td>\n",
              "      <td>AW</td>\n",
              "      <td>Awarded</td>\n",
              "      <td>TND</td>\n",
              "      <td>Tender</td>\n",
              "      <td>2018-04-06 00:00:00</td>\n",
              "      <td>2018-04-06 07:19:55</td>\n",
              "      <td>N</td>\n",
              "      <td>N</td>\n",
              "      <td>P</td>\n",
              "      <td>Primary</td>\n",
              "      <td>40.0</td>\n",
              "      <td>Truck</td>\n",
              "      <td>C</td>\n",
              "      <td>SP-RJ</td>\n",
              "      <td>TN</td>\n",
              "      <td>60024946</td>\n",
              "      <td>IL</td>\n",
              "      <td>MURFREESBORO</td>\n",
              "      <td>MORRIS</td>\n",
              "      <td>US</td>\n",
              "      <td>US</td>\n",
              "      <td>SP-RJ To 0060024946</td>\n",
              "      <td>US-371</td>\n",
              "      <td>US-604</td>\n",
              "      <td>US-TN-37127</td>\n",
              "      <td>US-IL-60450</td>\n",
              "      <td>TEMP EAST</td>\n",
              "      <td>2018-04-18 00:00:00</td>\n",
              "      <td>R</td>\n",
              "      <td>Refrigerated</td>\n",
              "      <td>R</td>\n",
              "      <td>Refrigerated</td>\n",
              "      <td>2018</td>\n",
              "      <td>2018</td>\n",
              "      <td>2018-04-02 00:00:00</td>\n",
              "      <td>2018-04-08 00:00:00</td>\n",
              "      <td>Apr</td>\n",
              "      <td>F18-WK 45</td>\n",
              "      <td>TJIS</td>\n",
              "      <td>Y</td>\n",
              "      <td>TJIS</td>\n",
              "      <td>Y</td>\n",
              "      <td>P</td>\n",
              "      <td>100</td>\n",
              "      <td>100</td>\n",
              "    </tr>\n",
              "  </tbody>\n",
              "</table>\n",
              "</div>"
            ],
            "text/plain": [
              "   shipment number  ...  tndr_target_share_percent\n",
              "0         71619016  ...                          0\n",
              "1         71901931  ...                        100\n",
              "2         71899343  ...                        100\n",
              "3         71903095  ...                          0\n",
              "4         71900123  ...                        100\n",
              "\n",
              "[5 rows x 53 columns]"
            ]
          },
          "metadata": {
            "tags": []
          },
          "execution_count": 103
        }
      ]
    },
    {
      "cell_type": "code",
      "metadata": {
        "id": "b8zUGDuZ1PcH"
      },
      "source": [
        "test_submission.sort_values(by=['shipment number'], inplace=True)\n"
      ],
      "execution_count": null,
      "outputs": []
    },
    {
      "cell_type": "code",
      "metadata": {
        "colab": {
          "base_uri": "https://localhost:8080/",
          "height": 326
        },
        "id": "rT6Cwmeb1fWc",
        "outputId": "43449ea6-1da4-4631-dbb8-48e47feb228b"
      },
      "source": [
        "test_submission.head()"
      ],
      "execution_count": null,
      "outputs": [
        {
          "output_type": "execute_result",
          "data": {
            "text/html": [
              "<div>\n",
              "<style scoped>\n",
              "    .dataframe tbody tr th:only-of-type {\n",
              "        vertical-align: middle;\n",
              "    }\n",
              "\n",
              "    .dataframe tbody tr th {\n",
              "        vertical-align: top;\n",
              "    }\n",
              "\n",
              "    .dataframe thead th {\n",
              "        text-align: right;\n",
              "    }\n",
              "</style>\n",
              "<table border=\"1\" class=\"dataframe\">\n",
              "  <thead>\n",
              "    <tr style=\"text-align: right;\">\n",
              "      <th></th>\n",
              "      <th>shipment number</th>\n",
              "      <th>hit_or_miss</th>\n",
              "      <th>distribution_channel_cd</th>\n",
              "      <th>distribution_channel_desc</th>\n",
              "      <th>shp_type_indicator_fg</th>\n",
              "      <th>shp_type_indicator_desc</th>\n",
              "      <th>transport_group_cd</th>\n",
              "      <th>award_carrier_cd</th>\n",
              "      <th>event_action_cd</th>\n",
              "      <th>event_action_desc</th>\n",
              "      <th>event_type_cd</th>\n",
              "      <th>event_type_desc</th>\n",
              "      <th>creation_dt</th>\n",
              "      <th>creation_ts</th>\n",
              "      <th>first_tender_fg</th>\n",
              "      <th>first_response_fg</th>\n",
              "      <th>carrier_type_cd</th>\n",
              "      <th>carrier_type_desc</th>\n",
              "      <th>shipping_condition_cd</th>\n",
              "      <th>shipping_condition_desc</th>\n",
              "      <th>preceding_document_category_cd</th>\n",
              "      <th>source_location_cd</th>\n",
              "      <th>location_from_state_cd</th>\n",
              "      <th>destination_location_cd</th>\n",
              "      <th>location_to_state_cd</th>\n",
              "      <th>origin_city_nm</th>\n",
              "      <th>destination_city_nm</th>\n",
              "      <th>origin_country_cd</th>\n",
              "      <th>destination_country_cd</th>\n",
              "      <th>transport_lane</th>\n",
              "      <th>source_location_zone_cd</th>\n",
              "      <th>destination_location_zone_cd</th>\n",
              "      <th>source_zip_cd</th>\n",
              "      <th>destination_zip_cd</th>\n",
              "      <th>transport_region</th>\n",
              "      <th>freight_order_departure_dt</th>\n",
              "      <th>temp_condition_cd</th>\n",
              "      <th>temp_condition_desc</th>\n",
              "      <th>temp_channel_cd</th>\n",
              "      <th>temp_channel_desc</th>\n",
              "      <th>creation_dt_year_nbr</th>\n",
              "      <th>fiscal_year_nbr</th>\n",
              "      <th>fiscal_week_begin_dt</th>\n",
              "      <th>fiscal_week_end_dt</th>\n",
              "      <th>fiscal_month_desc</th>\n",
              "      <th>fiscal_year_week_tag</th>\n",
              "      <th>acpt_carrier_cd</th>\n",
              "      <th>acpt_first_response_fg</th>\n",
              "      <th>tndr_carrier_cd</th>\n",
              "      <th>tndr_first_tender_fg</th>\n",
              "      <th>tndr_carrier_type_cd</th>\n",
              "      <th>award_target_share_percent</th>\n",
              "      <th>tndr_target_share_percent</th>\n",
              "    </tr>\n",
              "  </thead>\n",
              "  <tbody>\n",
              "    <tr>\n",
              "      <th>0</th>\n",
              "      <td>71619016</td>\n",
              "      <td>NaN</td>\n",
              "      <td>NaN</td>\n",
              "      <td>NaN</td>\n",
              "      <td>I</td>\n",
              "      <td>Inbound</td>\n",
              "      <td>TC</td>\n",
              "      <td>UAFL</td>\n",
              "      <td>AW</td>\n",
              "      <td>Awarded</td>\n",
              "      <td>TND</td>\n",
              "      <td>Tender</td>\n",
              "      <td>2018-04-06 00:00:00</td>\n",
              "      <td>2018-04-06 11:09:48</td>\n",
              "      <td>N</td>\n",
              "      <td>N</td>\n",
              "      <td>N</td>\n",
              "      <td>Non-Primary</td>\n",
              "      <td>41.0</td>\n",
              "      <td>LTL</td>\n",
              "      <td>V</td>\n",
              "      <td>V-00501879</td>\n",
              "      <td>IL</td>\n",
              "      <td>SP-JF</td>\n",
              "      <td>MN</td>\n",
              "      <td>CHANNAHON</td>\n",
              "      <td>GOLDEN VALLEY</td>\n",
              "      <td>US</td>\n",
              "      <td>US</td>\n",
              "      <td>V-00501879 To SP-JF</td>\n",
              "      <td>US-604</td>\n",
              "      <td>US-554</td>\n",
              "      <td>US-IL-60410</td>\n",
              "      <td>US-MN-55427</td>\n",
              "      <td>TEMP WEST</td>\n",
              "      <td>2018-01-09 00:00:00</td>\n",
              "      <td>PF</td>\n",
              "      <td>Ref protect Freezing</td>\n",
              "      <td>R</td>\n",
              "      <td>Refrigerated</td>\n",
              "      <td>2018</td>\n",
              "      <td>2018</td>\n",
              "      <td>2018-04-02 00:00:00</td>\n",
              "      <td>2018-04-08 00:00:00</td>\n",
              "      <td>Apr</td>\n",
              "      <td>F18-WK 45</td>\n",
              "      <td>UAFL</td>\n",
              "      <td>Y</td>\n",
              "      <td>UAFL</td>\n",
              "      <td>Y</td>\n",
              "      <td>N</td>\n",
              "      <td>0</td>\n",
              "      <td>0</td>\n",
              "    </tr>\n",
              "    <tr>\n",
              "      <th>51</th>\n",
              "      <td>71736758</td>\n",
              "      <td>NaN</td>\n",
              "      <td>NaN</td>\n",
              "      <td>NaN</td>\n",
              "      <td>I</td>\n",
              "      <td>Inbound</td>\n",
              "      <td>NTC</td>\n",
              "      <td>UAFL</td>\n",
              "      <td>AW</td>\n",
              "      <td>Awarded</td>\n",
              "      <td>TND</td>\n",
              "      <td>Tender</td>\n",
              "      <td>2018-04-23 00:00:00</td>\n",
              "      <td>2018-04-23 10:46:27</td>\n",
              "      <td>N</td>\n",
              "      <td>N</td>\n",
              "      <td>N</td>\n",
              "      <td>Non-Primary</td>\n",
              "      <td>43.0</td>\n",
              "      <td>Parcel Ground</td>\n",
              "      <td>V</td>\n",
              "      <td>V-00515056</td>\n",
              "      <td>IA</td>\n",
              "      <td>SP-HY</td>\n",
              "      <td>OH</td>\n",
              "      <td>LEMARS</td>\n",
              "      <td>MCCOMB</td>\n",
              "      <td>US</td>\n",
              "      <td>US</td>\n",
              "      <td>V-00515056 To SP-HY</td>\n",
              "      <td>US-510</td>\n",
              "      <td>US-458</td>\n",
              "      <td>US-IA-51031</td>\n",
              "      <td>US-OH-45858</td>\n",
              "      <td>DRY NORTHEAST</td>\n",
              "      <td>2018-02-13 00:00:00</td>\n",
              "      <td>D</td>\n",
              "      <td>Dry</td>\n",
              "      <td>D</td>\n",
              "      <td>Dry</td>\n",
              "      <td>2018</td>\n",
              "      <td>2018</td>\n",
              "      <td>2018-04-23 00:00:00</td>\n",
              "      <td>2018-04-29 00:00:00</td>\n",
              "      <td>Apr</td>\n",
              "      <td>F18-WK 48</td>\n",
              "      <td>UAFL</td>\n",
              "      <td>Y</td>\n",
              "      <td>UAFL</td>\n",
              "      <td>N</td>\n",
              "      <td>N</td>\n",
              "      <td>0</td>\n",
              "      <td>0</td>\n",
              "    </tr>\n",
              "    <tr>\n",
              "      <th>2</th>\n",
              "      <td>71899343</td>\n",
              "      <td>NaN</td>\n",
              "      <td>II</td>\n",
              "      <td>Intercomp/Interplnt</td>\n",
              "      <td>O</td>\n",
              "      <td>Outbound</td>\n",
              "      <td>TC</td>\n",
              "      <td>TJIS</td>\n",
              "      <td>AW</td>\n",
              "      <td>Awarded</td>\n",
              "      <td>TND</td>\n",
              "      <td>Tender</td>\n",
              "      <td>2018-04-06 00:00:00</td>\n",
              "      <td>2018-04-06 07:38:47</td>\n",
              "      <td>N</td>\n",
              "      <td>N</td>\n",
              "      <td>P</td>\n",
              "      <td>Primary</td>\n",
              "      <td>40.0</td>\n",
              "      <td>Truck</td>\n",
              "      <td>V</td>\n",
              "      <td>SP-RC</td>\n",
              "      <td>MI</td>\n",
              "      <td>SP-KA</td>\n",
              "      <td>MI</td>\n",
              "      <td>REED CITY</td>\n",
              "      <td>KALAMAZOO</td>\n",
              "      <td>US</td>\n",
              "      <td>US</td>\n",
              "      <td>SP-RC To SP-KA</td>\n",
              "      <td>US-496</td>\n",
              "      <td>US-490</td>\n",
              "      <td>US-MI-49677</td>\n",
              "      <td>US-MI-49048</td>\n",
              "      <td>TEMP WEST</td>\n",
              "      <td>2018-04-07 00:00:00</td>\n",
              "      <td>R</td>\n",
              "      <td>Refrigerated</td>\n",
              "      <td>R</td>\n",
              "      <td>Refrigerated</td>\n",
              "      <td>2018</td>\n",
              "      <td>2018</td>\n",
              "      <td>2018-04-02 00:00:00</td>\n",
              "      <td>2018-04-08 00:00:00</td>\n",
              "      <td>Apr</td>\n",
              "      <td>F18-WK 45</td>\n",
              "      <td>TJIS</td>\n",
              "      <td>Y</td>\n",
              "      <td>TJIS</td>\n",
              "      <td>Y</td>\n",
              "      <td>P</td>\n",
              "      <td>100</td>\n",
              "      <td>100</td>\n",
              "    </tr>\n",
              "    <tr>\n",
              "      <th>4</th>\n",
              "      <td>71900123</td>\n",
              "      <td>NaN</td>\n",
              "      <td>RT</td>\n",
              "      <td>Retail</td>\n",
              "      <td>O</td>\n",
              "      <td>Outbound</td>\n",
              "      <td>TC</td>\n",
              "      <td>TJIS</td>\n",
              "      <td>AW</td>\n",
              "      <td>Awarded</td>\n",
              "      <td>TND</td>\n",
              "      <td>Tender</td>\n",
              "      <td>2018-04-06 00:00:00</td>\n",
              "      <td>2018-04-06 07:19:55</td>\n",
              "      <td>N</td>\n",
              "      <td>N</td>\n",
              "      <td>P</td>\n",
              "      <td>Primary</td>\n",
              "      <td>40.0</td>\n",
              "      <td>Truck</td>\n",
              "      <td>C</td>\n",
              "      <td>SP-RJ</td>\n",
              "      <td>TN</td>\n",
              "      <td>60024946</td>\n",
              "      <td>IL</td>\n",
              "      <td>MURFREESBORO</td>\n",
              "      <td>MORRIS</td>\n",
              "      <td>US</td>\n",
              "      <td>US</td>\n",
              "      <td>SP-RJ To 0060024946</td>\n",
              "      <td>US-371</td>\n",
              "      <td>US-604</td>\n",
              "      <td>US-TN-37127</td>\n",
              "      <td>US-IL-60450</td>\n",
              "      <td>TEMP EAST</td>\n",
              "      <td>2018-04-18 00:00:00</td>\n",
              "      <td>R</td>\n",
              "      <td>Refrigerated</td>\n",
              "      <td>R</td>\n",
              "      <td>Refrigerated</td>\n",
              "      <td>2018</td>\n",
              "      <td>2018</td>\n",
              "      <td>2018-04-02 00:00:00</td>\n",
              "      <td>2018-04-08 00:00:00</td>\n",
              "      <td>Apr</td>\n",
              "      <td>F18-WK 45</td>\n",
              "      <td>TJIS</td>\n",
              "      <td>Y</td>\n",
              "      <td>TJIS</td>\n",
              "      <td>Y</td>\n",
              "      <td>P</td>\n",
              "      <td>100</td>\n",
              "      <td>100</td>\n",
              "    </tr>\n",
              "    <tr>\n",
              "      <th>10</th>\n",
              "      <td>71900284</td>\n",
              "      <td>NaN</td>\n",
              "      <td>FS</td>\n",
              "      <td>Food Service</td>\n",
              "      <td>O</td>\n",
              "      <td>Outbound</td>\n",
              "      <td>TC</td>\n",
              "      <td>QXWP</td>\n",
              "      <td>AW</td>\n",
              "      <td>Awarded</td>\n",
              "      <td>TND</td>\n",
              "      <td>Tender</td>\n",
              "      <td>2018-04-06 00:00:00</td>\n",
              "      <td>2018-04-06 07:59:01</td>\n",
              "      <td>N</td>\n",
              "      <td>N</td>\n",
              "      <td>P</td>\n",
              "      <td>Primary</td>\n",
              "      <td>40.0</td>\n",
              "      <td>Truck</td>\n",
              "      <td>C</td>\n",
              "      <td>SP-X8</td>\n",
              "      <td>MO</td>\n",
              "      <td>48008178</td>\n",
              "      <td>TN</td>\n",
              "      <td>CARTHAGE</td>\n",
              "      <td>LENOIR CITY</td>\n",
              "      <td>US</td>\n",
              "      <td>US</td>\n",
              "      <td>SP-X8 To 0048008178</td>\n",
              "      <td>US-648</td>\n",
              "      <td>US-377</td>\n",
              "      <td>US-MO-64836</td>\n",
              "      <td>US-TN-37771</td>\n",
              "      <td>TEMP WEST</td>\n",
              "      <td>2018-04-11 00:00:00</td>\n",
              "      <td>F</td>\n",
              "      <td>Frozen</td>\n",
              "      <td>F</td>\n",
              "      <td>Frozen</td>\n",
              "      <td>2018</td>\n",
              "      <td>2018</td>\n",
              "      <td>2018-04-02 00:00:00</td>\n",
              "      <td>2018-04-08 00:00:00</td>\n",
              "      <td>Apr</td>\n",
              "      <td>F18-WK 45</td>\n",
              "      <td>QXWP</td>\n",
              "      <td>Y</td>\n",
              "      <td>QXWP</td>\n",
              "      <td>Y</td>\n",
              "      <td>P</td>\n",
              "      <td>100</td>\n",
              "      <td>100</td>\n",
              "    </tr>\n",
              "  </tbody>\n",
              "</table>\n",
              "</div>"
            ],
            "text/plain": [
              "    shipment number  ...  tndr_target_share_percent\n",
              "0          71619016  ...                          0\n",
              "51         71736758  ...                          0\n",
              "2          71899343  ...                        100\n",
              "4          71900123  ...                        100\n",
              "10         71900284  ...                        100\n",
              "\n",
              "[5 rows x 53 columns]"
            ]
          },
          "metadata": {
            "tags": []
          },
          "execution_count": 106
        }
      ]
    },
    {
      "cell_type": "code",
      "metadata": {
        "id": "PQId3y1I1mr1"
      },
      "source": [
        "shipment_numbers_arranged = test_submission['shipment number']"
      ],
      "execution_count": null,
      "outputs": []
    },
    {
      "cell_type": "code",
      "metadata": {
        "id": "D6mj3C9IwIiG"
      },
      "source": [
        "test_submission.isnull().sum()"
      ],
      "execution_count": null,
      "outputs": []
    },
    {
      "cell_type": "code",
      "metadata": {
        "id": "QaVxmqXiwTHg"
      },
      "source": [
        "test_submission['distribution_channel_desc'] = test_submission['distribution_channel_desc'].fillna('Other')"
      ],
      "execution_count": null,
      "outputs": []
    },
    {
      "cell_type": "code",
      "metadata": {
        "id": "pvsGtNDIxGBO"
      },
      "source": [
        "dropped_columns = ['shipment number','shp_type_indicator_fg','event_action_cd','event_type_cd',\n",
        "                   'creation_dt','carrier_type_cd','shipping_condition_cd','temp_condition_cd']"
      ],
      "execution_count": null,
      "outputs": []
    },
    {
      "cell_type": "code",
      "metadata": {
        "id": "2VavB_DkxMJX"
      },
      "source": [
        "del test_submission['distribution_channel_cd']"
      ],
      "execution_count": null,
      "outputs": []
    },
    {
      "cell_type": "code",
      "metadata": {
        "id": "BD2oWESAxWpT"
      },
      "source": [
        "test_submission.drop(dropped_columns,axis=1,inplace=True)"
      ],
      "execution_count": null,
      "outputs": []
    },
    {
      "cell_type": "code",
      "metadata": {
        "id": "4f2OjDM4yFY9"
      },
      "source": [
        "test_submission['creation_ts'] = pd.to_datetime(test_submission.creation_ts)\n",
        "test_submission['freight_order_departure_dt'] = pd.to_datetime(test_submission.freight_order_departure_dt)\n",
        "test_submission['fiscal_week_begin_dt'] = pd.to_datetime(test_submission.fiscal_week_begin_dt)\n",
        "test_submission['fiscal_week_end_dt'] = pd.to_datetime(test_submission.fiscal_week_end_dt)"
      ],
      "execution_count": null,
      "outputs": []
    },
    {
      "cell_type": "code",
      "metadata": {
        "id": "5iCuI3onyXZl"
      },
      "source": [
        "# day\n",
        "test_submission['creation_ts_day'] = test_submission['creation_ts'].dt.day\n",
        "# month\n",
        "test_submission['creation_ts_month'] = test_submission['creation_ts'].dt.month\n",
        "# year\n",
        "test_submission['creation_ts_year'] = test_submission['creation_ts'].dt.year"
      ],
      "execution_count": null,
      "outputs": []
    },
    {
      "cell_type": "code",
      "metadata": {
        "id": "8EbpHeDKyf0q"
      },
      "source": [
        "# day\n",
        "test_submission['freight_order_departure_dt_day'] = test_submission['freight_order_departure_dt'].dt.day\n",
        "# month\n",
        "test_submission['freight_order_departure_dt_month'] = test_submission['freight_order_departure_dt'].dt.month\n",
        "# year\n",
        "test_submission['freight_order_departure_dt_year'] = test_submission['freight_order_departure_dt'].dt.year"
      ],
      "execution_count": null,
      "outputs": []
    },
    {
      "cell_type": "code",
      "metadata": {
        "id": "O6QmoS9Qyqdn"
      },
      "source": [
        "test_submission['fiscal_duration'] = test_submission['fiscal_week_end_dt']-test_submission['fiscal_week_begin_dt']"
      ],
      "execution_count": null,
      "outputs": []
    },
    {
      "cell_type": "code",
      "metadata": {
        "id": "jbSRnriCyzbY"
      },
      "source": [
        "del test_submission['creation_ts']\n",
        "del test_submission['freight_order_departure_dt']\n",
        "del test_submission['fiscal_week_begin_dt']\n",
        "del test_submission['fiscal_week_end_dt']"
      ],
      "execution_count": null,
      "outputs": []
    },
    {
      "cell_type": "code",
      "metadata": {
        "id": "1eqbU_r4y7Ef"
      },
      "source": [
        "test_submission['fiscal_duration'] = test_submission['fiscal_duration']/timedelta(days=1)"
      ],
      "execution_count": null,
      "outputs": []
    },
    {
      "cell_type": "code",
      "metadata": {
        "id": "WMAxO1wUzBc4"
      },
      "source": [
        "test_submission['creation_ts_day'] = test_submission['creation_ts_day'].apply(str)\n",
        "test_submission['creation_ts_month'] = test_submission['creation_ts_month'].apply(str)\n",
        "test_submission['creation_ts_year'] = test_submission['creation_ts_year'].apply(str)\n",
        "test_submission['freight_order_departure_dt_day'] = test_submission['freight_order_departure_dt_day'].apply(str)\n",
        "test_submission['freight_order_departure_dt_month'] = test_submission['freight_order_departure_dt_month'].apply(str)\n",
        "test_submission['freight_order_departure_dt_year'] = test_submission['freight_order_departure_dt_year'].apply(str)"
      ],
      "execution_count": null,
      "outputs": []
    },
    {
      "cell_type": "code",
      "metadata": {
        "id": "SI5kTvDMzLwn"
      },
      "source": [
        "test_submission['hit_or_miss'] = test_submission['hit_or_miss'].apply(str)"
      ],
      "execution_count": null,
      "outputs": []
    },
    {
      "cell_type": "code",
      "metadata": {
        "id": "G0lIpDh6zS5l"
      },
      "source": [
        "test_submission['fiscal_year_nbr'] = test_submission['fiscal_year_nbr'].apply(str)\n",
        "test_submission['creation_dt_year_nbr'] = test_submission['creation_dt_year_nbr'].apply(str)"
      ],
      "execution_count": null,
      "outputs": []
    },
    {
      "cell_type": "code",
      "metadata": {
        "id": "2it_ERKFzgUa"
      },
      "source": [
        "test_submission_X = test_submission.drop('hit_or_miss',axis=1)"
      ],
      "execution_count": null,
      "outputs": []
    },
    {
      "cell_type": "code",
      "metadata": {
        "colab": {
          "base_uri": "https://localhost:8080/",
          "height": 292
        },
        "id": "0mzOLnAs19_g",
        "outputId": "708e7e6d-8ca2-4e09-d1de-35fdfaa065e8"
      },
      "source": [
        "test_submission_X.head()"
      ],
      "execution_count": null,
      "outputs": [
        {
          "output_type": "execute_result",
          "data": {
            "text/html": [
              "<div>\n",
              "<style scoped>\n",
              "    .dataframe tbody tr th:only-of-type {\n",
              "        vertical-align: middle;\n",
              "    }\n",
              "\n",
              "    .dataframe tbody tr th {\n",
              "        vertical-align: top;\n",
              "    }\n",
              "\n",
              "    .dataframe thead th {\n",
              "        text-align: right;\n",
              "    }\n",
              "</style>\n",
              "<table border=\"1\" class=\"dataframe\">\n",
              "  <thead>\n",
              "    <tr style=\"text-align: right;\">\n",
              "      <th></th>\n",
              "      <th>distribution_channel_desc</th>\n",
              "      <th>shp_type_indicator_desc</th>\n",
              "      <th>transport_group_cd</th>\n",
              "      <th>award_carrier_cd</th>\n",
              "      <th>event_action_desc</th>\n",
              "      <th>event_type_desc</th>\n",
              "      <th>first_tender_fg</th>\n",
              "      <th>first_response_fg</th>\n",
              "      <th>carrier_type_desc</th>\n",
              "      <th>shipping_condition_desc</th>\n",
              "      <th>preceding_document_category_cd</th>\n",
              "      <th>source_location_cd</th>\n",
              "      <th>location_from_state_cd</th>\n",
              "      <th>destination_location_cd</th>\n",
              "      <th>location_to_state_cd</th>\n",
              "      <th>origin_city_nm</th>\n",
              "      <th>destination_city_nm</th>\n",
              "      <th>origin_country_cd</th>\n",
              "      <th>destination_country_cd</th>\n",
              "      <th>transport_lane</th>\n",
              "      <th>source_location_zone_cd</th>\n",
              "      <th>destination_location_zone_cd</th>\n",
              "      <th>source_zip_cd</th>\n",
              "      <th>destination_zip_cd</th>\n",
              "      <th>transport_region</th>\n",
              "      <th>temp_condition_desc</th>\n",
              "      <th>temp_channel_cd</th>\n",
              "      <th>temp_channel_desc</th>\n",
              "      <th>creation_dt_year_nbr</th>\n",
              "      <th>fiscal_year_nbr</th>\n",
              "      <th>fiscal_month_desc</th>\n",
              "      <th>fiscal_year_week_tag</th>\n",
              "      <th>acpt_carrier_cd</th>\n",
              "      <th>acpt_first_response_fg</th>\n",
              "      <th>tndr_carrier_cd</th>\n",
              "      <th>tndr_first_tender_fg</th>\n",
              "      <th>tndr_carrier_type_cd</th>\n",
              "      <th>award_target_share_percent</th>\n",
              "      <th>tndr_target_share_percent</th>\n",
              "      <th>creation_ts_day</th>\n",
              "      <th>creation_ts_month</th>\n",
              "      <th>creation_ts_year</th>\n",
              "      <th>freight_order_departure_dt_day</th>\n",
              "      <th>freight_order_departure_dt_month</th>\n",
              "      <th>freight_order_departure_dt_year</th>\n",
              "      <th>fiscal_duration</th>\n",
              "    </tr>\n",
              "  </thead>\n",
              "  <tbody>\n",
              "    <tr>\n",
              "      <th>0</th>\n",
              "      <td>Other</td>\n",
              "      <td>Inbound</td>\n",
              "      <td>TC</td>\n",
              "      <td>UAFL</td>\n",
              "      <td>Awarded</td>\n",
              "      <td>Tender</td>\n",
              "      <td>N</td>\n",
              "      <td>N</td>\n",
              "      <td>Non-Primary</td>\n",
              "      <td>LTL</td>\n",
              "      <td>V</td>\n",
              "      <td>V-00501879</td>\n",
              "      <td>IL</td>\n",
              "      <td>SP-JF</td>\n",
              "      <td>MN</td>\n",
              "      <td>CHANNAHON</td>\n",
              "      <td>GOLDEN VALLEY</td>\n",
              "      <td>US</td>\n",
              "      <td>US</td>\n",
              "      <td>V-00501879 To SP-JF</td>\n",
              "      <td>US-604</td>\n",
              "      <td>US-554</td>\n",
              "      <td>US-IL-60410</td>\n",
              "      <td>US-MN-55427</td>\n",
              "      <td>TEMP WEST</td>\n",
              "      <td>Ref protect Freezing</td>\n",
              "      <td>R</td>\n",
              "      <td>Refrigerated</td>\n",
              "      <td>2018</td>\n",
              "      <td>2018</td>\n",
              "      <td>Apr</td>\n",
              "      <td>F18-WK 45</td>\n",
              "      <td>UAFL</td>\n",
              "      <td>Y</td>\n",
              "      <td>UAFL</td>\n",
              "      <td>Y</td>\n",
              "      <td>N</td>\n",
              "      <td>0</td>\n",
              "      <td>0</td>\n",
              "      <td>6</td>\n",
              "      <td>4</td>\n",
              "      <td>2018</td>\n",
              "      <td>9.0</td>\n",
              "      <td>1.0</td>\n",
              "      <td>2018.0</td>\n",
              "      <td>6.0</td>\n",
              "    </tr>\n",
              "    <tr>\n",
              "      <th>51</th>\n",
              "      <td>Other</td>\n",
              "      <td>Inbound</td>\n",
              "      <td>NTC</td>\n",
              "      <td>UAFL</td>\n",
              "      <td>Awarded</td>\n",
              "      <td>Tender</td>\n",
              "      <td>N</td>\n",
              "      <td>N</td>\n",
              "      <td>Non-Primary</td>\n",
              "      <td>Parcel Ground</td>\n",
              "      <td>V</td>\n",
              "      <td>V-00515056</td>\n",
              "      <td>IA</td>\n",
              "      <td>SP-HY</td>\n",
              "      <td>OH</td>\n",
              "      <td>LEMARS</td>\n",
              "      <td>MCCOMB</td>\n",
              "      <td>US</td>\n",
              "      <td>US</td>\n",
              "      <td>V-00515056 To SP-HY</td>\n",
              "      <td>US-510</td>\n",
              "      <td>US-458</td>\n",
              "      <td>US-IA-51031</td>\n",
              "      <td>US-OH-45858</td>\n",
              "      <td>DRY NORTHEAST</td>\n",
              "      <td>Dry</td>\n",
              "      <td>D</td>\n",
              "      <td>Dry</td>\n",
              "      <td>2018</td>\n",
              "      <td>2018</td>\n",
              "      <td>Apr</td>\n",
              "      <td>F18-WK 48</td>\n",
              "      <td>UAFL</td>\n",
              "      <td>Y</td>\n",
              "      <td>UAFL</td>\n",
              "      <td>N</td>\n",
              "      <td>N</td>\n",
              "      <td>0</td>\n",
              "      <td>0</td>\n",
              "      <td>23</td>\n",
              "      <td>4</td>\n",
              "      <td>2018</td>\n",
              "      <td>13.0</td>\n",
              "      <td>2.0</td>\n",
              "      <td>2018.0</td>\n",
              "      <td>6.0</td>\n",
              "    </tr>\n",
              "    <tr>\n",
              "      <th>2</th>\n",
              "      <td>Intercomp/Interplnt</td>\n",
              "      <td>Outbound</td>\n",
              "      <td>TC</td>\n",
              "      <td>TJIS</td>\n",
              "      <td>Awarded</td>\n",
              "      <td>Tender</td>\n",
              "      <td>N</td>\n",
              "      <td>N</td>\n",
              "      <td>Primary</td>\n",
              "      <td>Truck</td>\n",
              "      <td>V</td>\n",
              "      <td>SP-RC</td>\n",
              "      <td>MI</td>\n",
              "      <td>SP-KA</td>\n",
              "      <td>MI</td>\n",
              "      <td>REED CITY</td>\n",
              "      <td>KALAMAZOO</td>\n",
              "      <td>US</td>\n",
              "      <td>US</td>\n",
              "      <td>SP-RC To SP-KA</td>\n",
              "      <td>US-496</td>\n",
              "      <td>US-490</td>\n",
              "      <td>US-MI-49677</td>\n",
              "      <td>US-MI-49048</td>\n",
              "      <td>TEMP WEST</td>\n",
              "      <td>Refrigerated</td>\n",
              "      <td>R</td>\n",
              "      <td>Refrigerated</td>\n",
              "      <td>2018</td>\n",
              "      <td>2018</td>\n",
              "      <td>Apr</td>\n",
              "      <td>F18-WK 45</td>\n",
              "      <td>TJIS</td>\n",
              "      <td>Y</td>\n",
              "      <td>TJIS</td>\n",
              "      <td>Y</td>\n",
              "      <td>P</td>\n",
              "      <td>100</td>\n",
              "      <td>100</td>\n",
              "      <td>6</td>\n",
              "      <td>4</td>\n",
              "      <td>2018</td>\n",
              "      <td>7.0</td>\n",
              "      <td>4.0</td>\n",
              "      <td>2018.0</td>\n",
              "      <td>6.0</td>\n",
              "    </tr>\n",
              "    <tr>\n",
              "      <th>4</th>\n",
              "      <td>Retail</td>\n",
              "      <td>Outbound</td>\n",
              "      <td>TC</td>\n",
              "      <td>TJIS</td>\n",
              "      <td>Awarded</td>\n",
              "      <td>Tender</td>\n",
              "      <td>N</td>\n",
              "      <td>N</td>\n",
              "      <td>Primary</td>\n",
              "      <td>Truck</td>\n",
              "      <td>C</td>\n",
              "      <td>SP-RJ</td>\n",
              "      <td>TN</td>\n",
              "      <td>60024946</td>\n",
              "      <td>IL</td>\n",
              "      <td>MURFREESBORO</td>\n",
              "      <td>MORRIS</td>\n",
              "      <td>US</td>\n",
              "      <td>US</td>\n",
              "      <td>SP-RJ To 0060024946</td>\n",
              "      <td>US-371</td>\n",
              "      <td>US-604</td>\n",
              "      <td>US-TN-37127</td>\n",
              "      <td>US-IL-60450</td>\n",
              "      <td>TEMP EAST</td>\n",
              "      <td>Refrigerated</td>\n",
              "      <td>R</td>\n",
              "      <td>Refrigerated</td>\n",
              "      <td>2018</td>\n",
              "      <td>2018</td>\n",
              "      <td>Apr</td>\n",
              "      <td>F18-WK 45</td>\n",
              "      <td>TJIS</td>\n",
              "      <td>Y</td>\n",
              "      <td>TJIS</td>\n",
              "      <td>Y</td>\n",
              "      <td>P</td>\n",
              "      <td>100</td>\n",
              "      <td>100</td>\n",
              "      <td>6</td>\n",
              "      <td>4</td>\n",
              "      <td>2018</td>\n",
              "      <td>18.0</td>\n",
              "      <td>4.0</td>\n",
              "      <td>2018.0</td>\n",
              "      <td>6.0</td>\n",
              "    </tr>\n",
              "    <tr>\n",
              "      <th>10</th>\n",
              "      <td>Food Service</td>\n",
              "      <td>Outbound</td>\n",
              "      <td>TC</td>\n",
              "      <td>QXWP</td>\n",
              "      <td>Awarded</td>\n",
              "      <td>Tender</td>\n",
              "      <td>N</td>\n",
              "      <td>N</td>\n",
              "      <td>Primary</td>\n",
              "      <td>Truck</td>\n",
              "      <td>C</td>\n",
              "      <td>SP-X8</td>\n",
              "      <td>MO</td>\n",
              "      <td>48008178</td>\n",
              "      <td>TN</td>\n",
              "      <td>CARTHAGE</td>\n",
              "      <td>LENOIR CITY</td>\n",
              "      <td>US</td>\n",
              "      <td>US</td>\n",
              "      <td>SP-X8 To 0048008178</td>\n",
              "      <td>US-648</td>\n",
              "      <td>US-377</td>\n",
              "      <td>US-MO-64836</td>\n",
              "      <td>US-TN-37771</td>\n",
              "      <td>TEMP WEST</td>\n",
              "      <td>Frozen</td>\n",
              "      <td>F</td>\n",
              "      <td>Frozen</td>\n",
              "      <td>2018</td>\n",
              "      <td>2018</td>\n",
              "      <td>Apr</td>\n",
              "      <td>F18-WK 45</td>\n",
              "      <td>QXWP</td>\n",
              "      <td>Y</td>\n",
              "      <td>QXWP</td>\n",
              "      <td>Y</td>\n",
              "      <td>P</td>\n",
              "      <td>100</td>\n",
              "      <td>100</td>\n",
              "      <td>6</td>\n",
              "      <td>4</td>\n",
              "      <td>2018</td>\n",
              "      <td>11.0</td>\n",
              "      <td>4.0</td>\n",
              "      <td>2018.0</td>\n",
              "      <td>6.0</td>\n",
              "    </tr>\n",
              "  </tbody>\n",
              "</table>\n",
              "</div>"
            ],
            "text/plain": [
              "   distribution_channel_desc  ... fiscal_duration\n",
              "0                      Other  ...             6.0\n",
              "51                     Other  ...             6.0\n",
              "2        Intercomp/Interplnt  ...             6.0\n",
              "4                     Retail  ...             6.0\n",
              "10              Food Service  ...             6.0\n",
              "\n",
              "[5 rows x 46 columns]"
            ]
          },
          "metadata": {
            "tags": []
          },
          "execution_count": 124
        }
      ]
    },
    {
      "cell_type": "code",
      "metadata": {
        "id": "Bt8-NVXOzsWC"
      },
      "source": [
        "test_submission_y = test_submission['hit_or_miss']"
      ],
      "execution_count": null,
      "outputs": []
    },
    {
      "cell_type": "code",
      "metadata": {
        "colab": {
          "base_uri": "https://localhost:8080/"
        },
        "id": "_ExyQmwWzy47",
        "outputId": "fd1d969f-f8ea-41a6-f96a-28f3255185ba"
      },
      "source": [
        "from sklearn.metrics import confusion_matrix, accuracy_score\n",
        "y_pred_test = clf.predict(test_submission_X)\n",
        "print(y_pred_test)"
      ],
      "execution_count": null,
      "outputs": [
        {
          "output_type": "stream",
          "text": [
            "['0.0' '0.0' '1.0' '1.0' '1.0' '1.0' '1.0' '1.0' '1.0' '0.0' '0.0' '0.0'\n",
            " '1.0' '1.0' '1.0' '1.0' '1.0' '1.0' '1.0' '1.0' '1.0' '1.0' '1.0' '1.0'\n",
            " '1.0' '1.0' '1.0' '1.0' '1.0' '0.0' '1.0' '1.0' '1.0' '1.0' '1.0' '1.0'\n",
            " '1.0' '1.0' '1.0' '1.0' '0.0' '1.0' '0.0' '1.0' '0.0' '0.0' '0.0' '0.0'\n",
            " '0.0' '0.0' '0.0' '0.0' '0.0' '0.0' '0.0' '0.0' '0.0' '0.0' '0.0' '0.0'\n",
            " '1.0' '0.0' '0.0' '0.0' '0.0' '0.0' '0.0' '0.0' '0.0' '0.0' '0.0' '0.0'\n",
            " '0.0' '0.0' '0.0' '0.0' '0.0' '0.0' '0.0' '0.0' '0.0' '0.0' '0.0' '0.0'\n",
            " '0.0' '0.0' '0.0' '0.0' '0.0' '0.0' '0.0' '0.0' '0.0' '0.0' '0.0' '0.0'\n",
            " '0.0' '0.0' '0.0' '0.0' '0.0' '0.0' '1.0' '0.0' '0.0' '0.0' '0.0' '0.0'\n",
            " '0.0' '0.0' '0.0' '0.0' '0.0' '0.0' '0.0' '0.0' '0.0' '0.0' '0.0' '0.0'\n",
            " '0.0' '0.0' '0.0' '0.0' '0.0' '0.0' '0.0' '0.0' '0.0' '0.0' '0.0' '0.0'\n",
            " '1.0' '0.0' '1.0' '1.0' '0.0' '0.0' '0.0' '0.0' '0.0' '1.0' '1.0' '1.0'\n",
            " '1.0' '1.0' '1.0' '1.0' '1.0' '1.0' '1.0' '1.0' '1.0' '1.0' '1.0' '1.0'\n",
            " '1.0' '1.0' '1.0' '1.0' '1.0' '1.0' '1.0' '1.0' '1.0' '1.0' '1.0' '1.0'\n",
            " '1.0' '1.0' '1.0' '1.0' '1.0' '1.0' '1.0' '1.0' '1.0' '1.0' '1.0' '1.0'\n",
            " '1.0' '1.0' '1.0' '1.0' '1.0' '1.0' '1.0' '1.0' '1.0' '1.0' '1.0' '1.0'\n",
            " '1.0' '1.0' '1.0' '1.0' '1.0' '1.0' '1.0' '1.0']\n"
          ],
          "name": "stdout"
        }
      ]
    },
    {
      "cell_type": "code",
      "metadata": {
        "colab": {
          "base_uri": "https://localhost:8080/"
        },
        "id": "8tcdaPHa2Ovw",
        "outputId": "f023a327-8647-4dec-d191-0b38bb891018"
      },
      "source": [
        "len(y_pred_test)"
      ],
      "execution_count": null,
      "outputs": [
        {
          "output_type": "execute_result",
          "data": {
            "text/plain": [
              "200"
            ]
          },
          "metadata": {
            "tags": []
          },
          "execution_count": 127
        }
      ]
    },
    {
      "cell_type": "code",
      "metadata": {
        "colab": {
          "base_uri": "https://localhost:8080/"
        },
        "id": "KDjN8yjt0MtC",
        "outputId": "c0966c80-2669-4396-a42f-ab60262c3afb"
      },
      "source": [
        "shipment_numbers_arranged"
      ],
      "execution_count": null,
      "outputs": [
        {
          "output_type": "execute_result",
          "data": {
            "text/plain": [
              "0      71619016\n",
              "51     71736758\n",
              "2      71899343\n",
              "4      71900123\n",
              "10     71900284\n",
              "         ...   \n",
              "198    72133227\n",
              "196    72135374\n",
              "195    72138940\n",
              "197    72139889\n",
              "199    72147810\n",
              "Name: shipment number, Length: 200, dtype: int64"
            ]
          },
          "metadata": {
            "tags": []
          },
          "execution_count": 128
        }
      ]
    },
    {
      "cell_type": "code",
      "metadata": {
        "id": "R43VEv3f2Vmr"
      },
      "source": [
        "final_list = list(zip(list(shipment_numbers_arranged),list(y_pred_test)))"
      ],
      "execution_count": null,
      "outputs": []
    },
    {
      "cell_type": "code",
      "metadata": {
        "id": "1Y6TAmj721em"
      },
      "source": [
        "final_list"
      ],
      "execution_count": null,
      "outputs": []
    },
    {
      "cell_type": "code",
      "metadata": {
        "id": "QJBKV57g221U"
      },
      "source": [
        "df_final = pd.DataFrame(final_list,columns=['shipment number','hit_or_miss'])"
      ],
      "execution_count": null,
      "outputs": []
    },
    {
      "cell_type": "code",
      "metadata": {
        "colab": {
          "base_uri": "https://localhost:8080/",
          "height": 204
        },
        "id": "YDDznsoa3Rln",
        "outputId": "6b9551f5-5829-46c8-e1b0-e6a861d7ebba"
      },
      "source": [
        "df_final.head()"
      ],
      "execution_count": null,
      "outputs": [
        {
          "output_type": "execute_result",
          "data": {
            "text/html": [
              "<div>\n",
              "<style scoped>\n",
              "    .dataframe tbody tr th:only-of-type {\n",
              "        vertical-align: middle;\n",
              "    }\n",
              "\n",
              "    .dataframe tbody tr th {\n",
              "        vertical-align: top;\n",
              "    }\n",
              "\n",
              "    .dataframe thead th {\n",
              "        text-align: right;\n",
              "    }\n",
              "</style>\n",
              "<table border=\"1\" class=\"dataframe\">\n",
              "  <thead>\n",
              "    <tr style=\"text-align: right;\">\n",
              "      <th></th>\n",
              "      <th>shipment number</th>\n",
              "      <th>hit_or_miss</th>\n",
              "    </tr>\n",
              "  </thead>\n",
              "  <tbody>\n",
              "    <tr>\n",
              "      <th>0</th>\n",
              "      <td>71619016</td>\n",
              "      <td>0.0</td>\n",
              "    </tr>\n",
              "    <tr>\n",
              "      <th>1</th>\n",
              "      <td>71736758</td>\n",
              "      <td>0.0</td>\n",
              "    </tr>\n",
              "    <tr>\n",
              "      <th>2</th>\n",
              "      <td>71899343</td>\n",
              "      <td>1.0</td>\n",
              "    </tr>\n",
              "    <tr>\n",
              "      <th>3</th>\n",
              "      <td>71900123</td>\n",
              "      <td>1.0</td>\n",
              "    </tr>\n",
              "    <tr>\n",
              "      <th>4</th>\n",
              "      <td>71900284</td>\n",
              "      <td>1.0</td>\n",
              "    </tr>\n",
              "  </tbody>\n",
              "</table>\n",
              "</div>"
            ],
            "text/plain": [
              "   shipment number hit_or_miss\n",
              "0         71619016         0.0\n",
              "1         71736758         0.0\n",
              "2         71899343         1.0\n",
              "3         71900123         1.0\n",
              "4         71900284         1.0"
            ]
          },
          "metadata": {
            "tags": []
          },
          "execution_count": 132
        }
      ]
    },
    {
      "cell_type": "code",
      "metadata": {
        "id": "lLP8rsYf3S4U"
      },
      "source": [
        "df_final.to_csv(\"Pied Piper.csv\",index=False)"
      ],
      "execution_count": null,
      "outputs": []
    },
    {
      "cell_type": "code",
      "metadata": {
        "id": "Aw3aZ-aU3ZuN"
      },
      "source": [
        ""
      ],
      "execution_count": null,
      "outputs": []
    }
  ]
}